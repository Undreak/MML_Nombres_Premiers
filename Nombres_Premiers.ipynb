{
  "nbformat": 4,
  "nbformat_minor": 0,
  "metadata": {
    "kernelspec": {
      "display_name": "Python 3",
      "language": "python",
      "name": "python3"
    },
    "language_info": {
      "codemirror_mode": {
        "name": "ipython",
        "version": 3
      },
      "file_extension": ".py",
      "mimetype": "text/x-python",
      "name": "python",
      "nbconvert_exporter": "python",
      "pygments_lexer": "ipython3",
      "version": "3.9.2"
    },
    "colab": {
      "name": "Copy of Nombres_Premiers.ipynb",
      "provenance": [],
      "collapsed_sections": [],
      "include_colab_link": true
    }
  },
  "cells": [
    {
      "cell_type": "markdown",
      "metadata": {
        "id": "view-in-github",
        "colab_type": "text"
      },
      "source": [
        "<a href=\"https://colab.research.google.com/github/Undreak/MML_Nombres_Premiers/blob/master/Nombres_Premiers.ipynb\" target=\"_parent\"><img src=\"https://colab.research.google.com/assets/colab-badge.svg\" alt=\"Open In Colab\"/></a>"
      ]
    },
    {
      "cell_type": "markdown",
      "metadata": {
        "id": "Hm3QK_MnBuRo"
      },
      "source": [
        "# Notebook Nombres Premiers\n",
        "\n",
        "> **Groupe D**\n",
        ">\n",
        "> Alexandre De Cuyper\n",
        ">\n",
        "> Hendrix Montalvan"
      ]
    },
    {
      "cell_type": "markdown",
      "metadata": {
        "id": "OTRwUAjZ2dP8"
      },
      "source": [
        "1. [Introduction](#Introduction)\n",
        "2. [Données](#Données)\n",
        "3. [Modèle](#Modèle)\n",
        "4. [Résultats](#Résultats)"
      ]
    },
    {
      "cell_type": "markdown",
      "metadata": {
        "id": "m1boAklI2Zr0"
      },
      "source": [
        "## Introduction\n",
        "\n",
        "---\n",
        "\n",
        "On cherche a faire un réseau qui prédit si un nombre est un nombre premier. \n",
        "\n",
        "On va utiliser l'apprentissage supervisé avec une classification binaire (nombres premiers et les multiples). On va diviser les données en 2 groupes: entrainement et test. Pour les algorithmes on va essayer les méthodes Linear SVM, RBF SVM, Random Forest, etc; et voir quelle est la méthode qui prédit mieux les nombres premiers dehors des données d'apprentissage.\n",
        "\n",
        "---\n",
        "\n",
        "Dans ce Notebook nous allons voir si un réseau de neurones est capable de prédire si un nombre est premier ou non en lui montrant un jeu de données de plusieurs millions de nombres premiers.\n",
        "\n",
        "Nous allons pour cela tester 2 types de datasets différents, un contenant les multiples des nombres et un autre sans, afin de voir comment cette information va impacter l'apprentissage du réseau et par conséquent ses prédicitons."
      ]
    },
    {
      "cell_type": "markdown",
      "metadata": {
        "id": "Po98q2gjTD8o"
      },
      "source": [
        "## Importations néscessaires"
      ]
    },
    {
      "cell_type": "code",
      "metadata": {
        "id": "jE7Fg1N-LwE4",
        "colab": {
          "base_uri": "https://localhost:8080/"
        },
        "outputId": "a015d714-19cc-424c-d824-51b3ba385381"
      },
      "source": [
        "%tensorflow_version 1.x\n",
        "import numpy as np\n",
        "import tensorflow as tf\n",
        "import matplotlib.pyplot as plt\n",
        "%matplotlib inline\n",
        "import pandas as pd\n",
        "import keras\n",
        "import keras.models as km\n",
        "import keras.layers as kl"
      ],
      "execution_count": 1,
      "outputs": [
        {
          "output_type": "stream",
          "text": [
            "TensorFlow 1.x selected.\n"
          ],
          "name": "stdout"
        },
        {
          "output_type": "stream",
          "text": [
            "Using TensorFlow backend.\n"
          ],
          "name": "stderr"
        }
      ]
    },
    {
      "cell_type": "markdown",
      "metadata": {
        "id": "7fOzJ020T7V8"
      },
      "source": [
        "## Données"
      ]
    },
    {
      "cell_type": "code",
      "metadata": {
        "cellView": "form",
        "id": "0n8lKa9bXPDU"
      },
      "source": [
        "#@title Options pour les datasets\n",
        "#@markdown Choisissez les datasets à importer\n",
        "\n",
        "use_primes = True #@param {type:\"boolean\"}\n",
        "suffix = \"\" if use_primes else \"_mini\"\n",
        "use_primes_with_multiples = True #@param {type:\"boolean\"}\n",
        "suffix = \"\" if use_primes_with_multiples else \"_mini\""
      ],
      "execution_count": 3,
      "outputs": []
    },
    {
      "cell_type": "code",
      "metadata": {
        "id": "UpoxLCSG9B15",
        "colab": {
          "base_uri": "https://localhost:8080/"
        },
        "cellView": "form",
        "outputId": "631fa5cd-a174-4ea1-e3ca-0b69ce8faf67"
      },
      "source": [
        "#@title Télécharger les données\n",
        "\n",
        "#@markdown Ceci va télécharger l'archive depuis Github et la décompresser dans le répertoire `data`\n",
        "\n",
        "import sys\n",
        "import os\n",
        "import tarfile\n",
        "from urllib.request import urlretrieve\n",
        "\n",
        "URL = \"https://github.com/Undreak/MML_Nombres_Premiers/raw/master\"\n",
        "FILES = [\n",
        "    \"prime_with_multiples.tar.gz\",\n",
        "    \"primes.tar.gz\"\n",
        "]\n",
        "\n",
        "\n",
        "def download_data(output_dir, use_primes=True, use_primes_with_multiples=False):\n",
        "  if use_primes_with_multiples:\n",
        "    file = FILES[0]\n",
        "  if use_primes:\n",
        "    file = FILES[1]\n",
        "  if use_primes and use_primes_with_multiples:\n",
        "    files = FILES\n",
        "  urls = [\n",
        "         f\"{URL}/{filename}\"\n",
        "         for filename in files\n",
        "  ]\n",
        "  \n",
        "  if not os.path.exists(output_dir):\n",
        "    print(f\"Création du répertoire {output_dir}\")\n",
        "    os.mkdir(output_dir)\n",
        "  \n",
        "  for url, filename in zip(urls, files):\n",
        "    output_file = os.path.join(output_dir, filename)\n",
        "    if os.path.exists(output_file):\n",
        "      print(f\"{filename} déjà téléchargé.\")\n",
        "      continue\n",
        "\n",
        "    print(f\"Téléchargement à partir de {url}...\")\n",
        "    urlretrieve(url, output_file)\n",
        "    print(f\"==> Fichier enregistré sous {output_file}\")\n",
        "\n",
        "    if filename.endswith(\"tar.gz\"):\n",
        "      print(\"Extraction de l'archive...\")\n",
        "      with tarfile.open(output_file, \"r:gz\") as f:\n",
        "        f.extractall(output_dir)\n",
        "      print(\"Terminé.\\n\")\n",
        "\n",
        "download_data(\"data\", use_primes, use_primes_with_multiples)"
      ],
      "execution_count": 4,
      "outputs": [
        {
          "output_type": "stream",
          "text": [
            "Création du répertoire data\n",
            "Téléchargement à partir de https://github.com/Undreak/MML_Nombres_Premiers/raw/master/prime_with_multiples.tar.gz...\n",
            "==> Fichier enregistré sous data/prime_with_multiples.tar.gz\n",
            "Extraction de l'archive...\n",
            "Terminé.\n",
            "\n",
            "Téléchargement à partir de https://github.com/Undreak/MML_Nombres_Premiers/raw/master/primes.tar.gz...\n",
            "==> Fichier enregistré sous data/primes.tar.gz\n",
            "Extraction de l'archive...\n",
            "Terminé.\n",
            "\n"
          ],
          "name": "stdout"
        }
      ]
    },
    {
      "cell_type": "markdown",
      "metadata": {
        "id": "UcnHaILQ2Azo"
      },
      "source": [
        "### Préparation des datasets\n",
        "\n",
        "Les bases de données au format `.accdb` sont disponible ici: https://aaabit.com/Prime-Numbers\n",
        "\n",
        "On a exécuté la fonction suivante pour convertir les fichiers."
      ]
    },
    {
      "cell_type": "code",
      "metadata": {
        "id": "RseBQNhr2Azo"
      },
      "source": [
        "import pypyodbc\n",
        "import numpy as np\n",
        "pypyodbc.lowercase = False\n",
        "conn = pypyodbc.connect(\n",
        "    r\"Driver={Microsoft Access Driver (*.mdb, *.accdb)};\" +\n",
        "    r\"Dbq=C:\\\\Users\\\\leibn\\\\Prime numbers\\\\nom_du_fichier.accdb;\") #Ici il faut remplacer par le nom du fichier en format access\n",
        "cur = conn.cursor()\n",
        "cur.execute(\"SELECT prime_index, prime_n FROM primes_tbl\");\n",
        "n=7603553  #n: quantité de nombres premiers qui sont dans le dataset\n",
        "prime=np.zeros(n)\n",
        "i=0\n",
        "for i in range(n):\n",
        "    row = cur.fetchone()\n",
        "    prime[i]=row.get(\"prime_n\")\n",
        "print(prime)\n",
        "cur.close()\n",
        "conn.close()"
      ],
      "execution_count": null,
      "outputs": []
    },
    {
      "cell_type": "markdown",
      "metadata": {
        "id": "CIEyJyJd4DP0"
      },
      "source": [
        "Puis pour obtenir les multiples des nombres du dataset nous avons utilisé ces fonctions."
      ]
    },
    {
      "cell_type": "code",
      "metadata": {
        "id": "feA7m9hH2Azo"
      },
      "source": [
        "def numbers_to_digits(number,max_digit): #Cette fonction convertit les nombres en chiffres en base decimale\n",
        "    tab=np.zeros(max_digit)\n",
        "    i=0\n",
        "    for i in range(max_digit):\n",
        "        tab[i]=number%10\n",
        "        number=number//10\n",
        "    return tab\n",
        "\n",
        "def add_random_multiples(tab,max_digit): #Cette fonction ajoute des nombres multiples au dataset\n",
        "    dim=2*len(tab)-1\n",
        "    output_tab=np.zeros((dim,max_digit+1))\n",
        "    output_tab[0][0]=0\n",
        "    output_tab[0,1:]=numbers_to_digits(1,max_digit)\n",
        "    i=0\n",
        "    prev_value=1\n",
        "    p=1\n",
        "    while p<dim:\n",
        "        diff=tab[i]-prev_value\n",
        "        if diff==1:\n",
        "            output_tab[p][0]=1\n",
        "            output_tab[p,1:]=numbers_to_digits(tab[i],max_digit)\n",
        "            prev_value=tab[i]\n",
        "            p=p+1\n",
        "            i=i+1\n",
        "        elif diff==2:\n",
        "            output_tab[p][0]=0\n",
        "            output_tab[p,1:]=numbers_to_digits(tab[i]-1,max_digit)\n",
        "            p=p+1\n",
        "            output_tab[p][0]=1\n",
        "            output_tab[p,1:]=numbers_to_digits(tab[i],max_digit)\n",
        "            prev_value=tab[i]\n",
        "            p=p+1\n",
        "            i=i+1\n",
        "            if i==len(tab):\n",
        "                p=dim\n",
        "            else:\n",
        "                pass\n",
        "        elif diff>2:\n",
        "            random=np.random.randint(1,diff)\n",
        "            output_tab[p][0]=0\n",
        "            output_tab[p,1:]=numbers_to_digits(tab[i-1]+random,max_digit)\n",
        "            p=p+1\n",
        "            output_tab[p][0]=1\n",
        "            output_tab[p,1:]=numbers_to_digits(tab[i],max_digit)\n",
        "            prev_value=tab[i]\n",
        "            p=p+1\n",
        "            i=i+1\n",
        "            if i==len(tab):\n",
        "                p=dim\n",
        "            else:\n",
        "                pass\n",
        "        else:\n",
        "            pass\n",
        "    return output_tab\n",
        "            "
      ],
      "execution_count": null,
      "outputs": []
    },
    {
      "cell_type": "markdown",
      "metadata": {
        "id": "tiyzcXB34IU0"
      },
      "source": [
        "Les données compressé téléchargé depuis Github sont déjà préparé au format `.csv` et peuvent être lu par pandas ou numpy."
      ]
    },
    {
      "cell_type": "markdown",
      "metadata": {
        "id": "BQhQocE-T_Uo"
      },
      "source": [
        "### Charger les données"
      ]
    },
    {
      "cell_type": "markdown",
      "metadata": {
        "id": "jmevFowGid-Q"
      },
      "source": [
        "Chargement des données du dataset sans les multiples"
      ]
    },
    {
      "cell_type": "code",
      "metadata": {
        "id": "pwxK332XMGMg"
      },
      "source": [
        "data = pd.read_csv('data/primes.csv', skiprows=1, delimiter=',').astype(int)"
      ],
      "execution_count": 6,
      "outputs": []
    },
    {
      "cell_type": "code",
      "metadata": {
        "id": "OWEe3zoaMc08"
      },
      "source": [
        "N = 100000\n",
        "\n",
        "X_train = np.arange(2,N+2)\n",
        "Y_train = np.isin(X_train, data['2'][:N])*1\n",
        "\n",
        "X_test = np.arange(N+3, 2*N+3)\n",
        "Y_test = np.isin(X_test, data['2'][N+3:2*N+3])*1"
      ],
      "execution_count": 92,
      "outputs": []
    },
    {
      "cell_type": "markdown",
      "metadata": {
        "id": "0_Lw3l7ciWCc"
      },
      "source": [
        "Chargement des données du dataset avec les multiples"
      ]
    },
    {
      "cell_type": "code",
      "metadata": {
        "id": "dBiFMXFc2Azo"
      },
      "source": [
        "df = pd.read_csv(\"data/prime_with_multiples.csv\")"
      ],
      "execution_count": 8,
      "outputs": []
    },
    {
      "cell_type": "code",
      "metadata": {
        "id": "O9v0UTuW2Azo"
      },
      "source": [
        "N = 100000\n",
        "\n",
        "Y_train = df['prime'][:N]\n",
        "X_train = np.zeros((N,9))\n",
        "for i in range(9):\n",
        "  X_train[:,i] = df[f\"{i+1}\"][:N]\n",
        "\n",
        "Y_test = df['prime'][N+1:2*N+1]\n",
        "X_test = np.zeros((N,9))\n",
        "for i in range(9):\n",
        "  X_test[:,i] = df[f\"{i+1}\"][N+1:2*N+1]"
      ],
      "execution_count": 54,
      "outputs": []
    },
    {
      "cell_type": "markdown",
      "metadata": {
        "id": "4ac6-38AWFn8"
      },
      "source": [
        "## Modèle"
      ]
    },
    {
      "cell_type": "markdown",
      "metadata": {
        "id": "MbQdx7cMzmSA"
      },
      "source": [
        "On construit un réseau de neurones convolutif"
      ]
    },
    {
      "cell_type": "code",
      "metadata": {
        "id": "VCH_NzVNMgAE",
        "colab": {
          "base_uri": "https://localhost:8080/"
        },
        "outputId": "4da007ac-7e05-45d3-cd5c-41a25ba7182a"
      },
      "source": [
        "f_activation = 'relu'\n",
        "l_activation = 'sigmoid'\n",
        "dropout_rate = 0.05\n",
        "\n",
        "model = tf.keras.Sequential([\n",
        "  tf.keras.layers.Dense(16, activation=f_activation, input_dim=1),\n",
        "  tf.keras.layers.Dropout(dropout_rate),\n",
        "  tf.keras.layers.Dense(32, activation=f_activation),\n",
        "  tf.keras.layers.Dropout(dropout_rate),\n",
        "  tf.keras.layers.Dense(32, activation=f_activation),\n",
        "  tf.keras.layers.Dropout(dropout_rate),\n",
        "  tf.keras.layers.Dense(64, activation=f_activation),\n",
        "  tf.keras.layers.Dropout(dropout_rate),\n",
        "  tf.keras.layers.Dense(128, activation=f_activation),\n",
        "  tf.keras.layers.Dropout(dropout_rate),\n",
        "  tf.keras.layers.Dense(1, activation=l_activation)\n",
        "])\n",
        "\n",
        "model.compile(optimizer='Adam', loss='binary_crossentropy')\n",
        "model.summary()"
      ],
      "execution_count": 93,
      "outputs": [
        {
          "output_type": "stream",
          "text": [
            "Model: \"sequential_6\"\n",
            "_________________________________________________________________\n",
            "Layer (type)                 Output Shape              Param #   \n",
            "=================================================================\n",
            "dense_36 (Dense)             (None, 16)                32        \n",
            "_________________________________________________________________\n",
            "dropout_30 (Dropout)         (None, 16)                0         \n",
            "_________________________________________________________________\n",
            "dense_37 (Dense)             (None, 32)                544       \n",
            "_________________________________________________________________\n",
            "dropout_31 (Dropout)         (None, 32)                0         \n",
            "_________________________________________________________________\n",
            "dense_38 (Dense)             (None, 32)                1056      \n",
            "_________________________________________________________________\n",
            "dropout_32 (Dropout)         (None, 32)                0         \n",
            "_________________________________________________________________\n",
            "dense_39 (Dense)             (None, 64)                2112      \n",
            "_________________________________________________________________\n",
            "dropout_33 (Dropout)         (None, 64)                0         \n",
            "_________________________________________________________________\n",
            "dense_40 (Dense)             (None, 128)               8320      \n",
            "_________________________________________________________________\n",
            "dropout_34 (Dropout)         (None, 128)               0         \n",
            "_________________________________________________________________\n",
            "dense_41 (Dense)             (None, 1)                 129       \n",
            "=================================================================\n",
            "Total params: 12,193\n",
            "Trainable params: 12,193\n",
            "Non-trainable params: 0\n",
            "_________________________________________________________________\n"
          ],
          "name": "stdout"
        }
      ]
    },
    {
      "cell_type": "code",
      "metadata": {
        "id": "DgClycNqaqJ0",
        "colab": {
          "base_uri": "https://localhost:8080/"
        },
        "outputId": "f7782e56-0c0c-43e7-d2c6-68e50df6d28e"
      },
      "source": [
        "history = model.fit(X_train, Y_train,\n",
        "  batch_size=32,\n",
        "  epochs=15,\n",
        "  validation_split=0.3,\n",
        "  verbose=1)"
      ],
      "execution_count": 94,
      "outputs": [
        {
          "output_type": "stream",
          "text": [
            "Train on 70000 samples, validate on 30000 samples\n",
            "Epoch 1/15\n",
            "70000/70000 [==============================] - 9s 131us/sample - loss: 3.7142 - val_loss: 0.3007\n",
            "Epoch 2/15\n",
            "70000/70000 [==============================] - 8s 118us/sample - loss: 0.3612 - val_loss: 0.3001\n",
            "Epoch 3/15\n",
            "70000/70000 [==============================] - 9s 130us/sample - loss: 0.3318 - val_loss: 0.2992\n",
            "Epoch 4/15\n",
            "70000/70000 [==============================] - 10s 146us/sample - loss: 0.3253 - val_loss: 0.3006\n",
            "Epoch 5/15\n",
            "70000/70000 [==============================] - 9s 123us/sample - loss: 0.3273 - val_loss: 0.3010\n",
            "Epoch 6/15\n",
            "70000/70000 [==============================] - 8s 120us/sample - loss: 0.3243 - val_loss: 0.3005\n",
            "Epoch 7/15\n",
            "70000/70000 [==============================] - 10s 144us/sample - loss: 0.3250 - val_loss: 0.3012\n",
            "Epoch 8/15\n",
            "70000/70000 [==============================] - 8s 115us/sample - loss: 0.3271 - val_loss: 0.2992\n",
            "Epoch 9/15\n",
            "70000/70000 [==============================] - 8s 121us/sample - loss: 0.3253 - val_loss: 0.3000\n",
            "Epoch 10/15\n",
            "70000/70000 [==============================] - 7s 101us/sample - loss: 0.3256 - val_loss: 0.3005\n",
            "Epoch 11/15\n",
            "70000/70000 [==============================] - 7s 104us/sample - loss: 0.3234 - val_loss: 0.3003\n",
            "Epoch 12/15\n",
            "70000/70000 [==============================] - 8s 111us/sample - loss: 0.3256 - val_loss: 0.2996\n",
            "Epoch 13/15\n",
            "70000/70000 [==============================] - 7s 97us/sample - loss: 0.3242 - val_loss: 0.3003\n",
            "Epoch 14/15\n",
            "70000/70000 [==============================] - 7s 105us/sample - loss: 0.3257 - val_loss: 0.3007\n",
            "Epoch 15/15\n",
            "70000/70000 [==============================] - 7s 107us/sample - loss: 0.3241 - val_loss: 0.2993\n"
          ],
          "name": "stdout"
        }
      ]
    },
    {
      "cell_type": "code",
      "metadata": {
        "id": "7CxYpKg9a4JI",
        "colab": {
          "base_uri": "https://localhost:8080/",
          "height": 314
        },
        "outputId": "85116c26-817a-438a-dd46-9a10f983736f"
      },
      "source": [
        "plt.figure()                    \n",
        "plt.plot(history.history['loss'], label='training')\n",
        "plt.plot(history.history['val_loss'], label='validation')\n",
        "plt.xlabel('epochs')\n",
        "plt.ylabel('loss')\n",
        "plt.yscale('log')\n",
        "plt.legend()\n",
        "plt.show()\n",
        "\n",
        "ev = model.evaluate(X_test, Y_test)\n",
        "print(ev)"
      ],
      "execution_count": 40,
      "outputs": [
        {
          "output_type": "display_data",
          "data": {
            "image/png": "[encoded data removed]",
            "text/plain": [
              "<Figure size 432x288 with 1 Axes>"
            ]
          },
          "metadata": {
            "tags": [],
            "needs_background": "light"
          }
        },
        {
          "output_type": "stream",
          "text": [
            "100000/100000 [==============================] - 3s 33us/sample - loss: 1.3684\n",
            "1.3684136158275604\n"
          ],
          "name": "stdout"
        }
      ]
    },
    {
      "cell_type": "markdown",
      "metadata": {
        "id": "3VPZaMHtpgEA"
      },
      "source": [
        "Prédictions pour le dataset avec les multiples"
      ]
    },
    {
      "cell_type": "code",
      "metadata": {
        "colab": {
          "base_uri": "https://localhost:8080/"
        },
        "id": "adI_8bAtrOHw",
        "outputId": "f271b829-70b2-482c-818d-3f28e435ad2b"
      },
      "source": [
        "df.index[N+1:N+51]\n",
        "Y_test"
      ],
      "execution_count": 85,
      "outputs": [
        {
          "output_type": "execute_result",
          "data": {
            "text/plain": [
              "100001    0.0\n",
              "100002    1.0\n",
              "100003    0.0\n",
              "100004    1.0\n",
              "100005    0.0\n",
              "         ... \n",
              "199996    1.0\n",
              "199997    0.0\n",
              "199998    1.0\n",
              "199999    0.0\n",
              "200000    1.0\n",
              "Name: prime, Length: 100000, dtype: float64"
            ]
          },
          "metadata": {
            "tags": []
          },
          "execution_count": 85
        }
      ]
    },
    {
      "cell_type": "code",
      "metadata": {
        "colab": {
          "base_uri": "https://localhost:8080/",
          "height": 278
        },
        "id": "7oyz7_5zkpnQ",
        "outputId": "913f4ab7-0eec-4c3c-bab3-b2929fb0db6c"
      },
      "source": [
        "pred = model.predict(X_test[:50])\n",
        "plt.plot(df.index[N+1:N+51], pred)\n",
        "plt.plot(Y_test[:50])\n",
        "plt.yscale('log')\n",
        "plt.show()"
      ],
      "execution_count": 90,
      "outputs": [
        {
          "output_type": "display_data",
          "data": {
            "image/png": "[encoded data removed]",
            "text/plain": [
              "<Figure size 432x288 with 1 Axes>"
            ]
          },
          "metadata": {
            "tags": [],
            "needs_background": "light"
          }
        }
      ]
    },
    {
      "cell_type": "markdown",
      "metadata": {
        "id": "4rLhj-hEpoN4"
      },
      "source": [
        "Prédictions pour le dataset sans les multiples"
      ]
    },
    {
      "cell_type": "code",
      "metadata": {
        "colab": {
          "base_uri": "https://localhost:8080/",
          "height": 334
        },
        "id": "H-Jwu_bgpU-o",
        "outputId": "8f6c3931-e5ef-41bf-b9bd-ce33c56628e8"
      },
      "source": [
        "pred = model.predict(X_test[:200])\n",
        "plt.plot(pred)\n",
        "plt.plot(Y_test)\n",
        "plt.yscale('log')\n",
        "plt.show()\n",
        "print(pred[:20].T)"
      ],
      "execution_count": 101,
      "outputs": [
        {
          "output_type": "display_data",
          "data": {
            "image/png": "[encoded data removed]",
            "text/plain": [
              "<Figure size 432x288 with 1 Axes>"
            ]
          },
          "metadata": {
            "tags": [],
            "needs_background": "light"
          }
        },
        {
          "output_type": "stream",
          "text": [
            "[[0.09453601 0.09453601 0.09453601 0.09453601 0.09453601 0.09453601\n",
            "  0.09453601 0.09453601 0.09453601 0.09453601 0.09453601 0.09453601\n",
            "  0.09453601 0.09453601 0.09453601 0.09453601 0.09453601 0.09453601\n",
            "  0.09453601 0.09453601]]\n"
          ],
          "name": "stdout"
        }
      ]
    },
    {
      "cell_type": "markdown",
      "metadata": {
        "id": "xjIVlybohzWI"
      },
      "source": [
        "## Résultats\n",
        "\n",
        "Comme on peut le voir sur les graphiques ci-dessus, le modèle sans les multiples est incapable de faire une quelquonce prédiction, tous les nombres ont la même probabilité d'être premier. \n",
        "\n",
        "Tandis que pour le dataset avec les multiples nous obtenons déjà des résultats plus interessant. \n",
        "On peut voir que certains point correspondent et qu'ils ont donc bien été prédit.\n",
        "\n",
        "Toutefois il reste encore des erreurs et pour cela il faut pouvoirs essayer d'autres méthodes, on va donc essayer avec un dataset en binaire pour voir quel impact cela va avoir sur les prédictions du modèle. "
      ]
    },
    {
      "cell_type": "code",
      "metadata": {
        "id": "2IafRLxuuFAc"
      },
      "source": [
        ""
      ],
      "execution_count": null,
      "outputs": []
    }
  ]
}