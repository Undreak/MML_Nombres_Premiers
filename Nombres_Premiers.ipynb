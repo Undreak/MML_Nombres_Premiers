{
  "nbformat": 4,
  "nbformat_minor": 0,
  "metadata": {
    "kernelspec": {
      "display_name": "Python 3",
      "language": "python",
      "name": "python3"
    },
    "language_info": {
      "codemirror_mode": {
        "name": "ipython",
        "version": 3
      },
      "file_extension": ".py",
      "mimetype": "text/x-python",
      "name": "python",
      "nbconvert_exporter": "python",
      "pygments_lexer": "ipython3",
      "version": "3.9.2"
    },
    "colab": {
      "name": "Copy of Nombres_Premiers.ipynb",
      "provenance": [],
      "collapsed_sections": [],
      "include_colab_link": true
    }
  },
  "cells": [
    {
      "cell_type": "markdown",
      "metadata": {
        "id": "view-in-github",
        "colab_type": "text"
      },
      "source": [
        "<a href=\"https://colab.research.google.com/github/Undreak/MML_Nombres_Premiers/blob/master/Nombres_Premiers.ipynb\" target=\"_parent\"><img src=\"https://colab.research.google.com/assets/colab-badge.svg\" alt=\"Open In Colab\"/></a>"
      ]
    },
    {
      "cell_type": "markdown",
      "metadata": {
        "id": "Hm3QK_MnBuRo"
      },
      "source": [
        "# Notebook Nombres Premiers\n",
        "\n",
        "> **Groupe D**\n",
        ">\n",
        "> Alexandre De Cuyper\n",
        ">\n",
        "> Hendrix Montalvan"
      ]
    },
    {
      "cell_type": "markdown",
      "metadata": {
        "id": "OTRwUAjZ2dP8"
      },
      "source": [
        "1. [Introduction](#Introduction)\n",
        "2. [Données](#Données)\n",
        "3. [Modèle](#Modèle)\n",
        "4. [Résultats](#Résultats)"
      ]
    },
    {
      "cell_type": "markdown",
      "metadata": {
        "id": "m1boAklI2Zr0"
      },
      "source": [
        "## Introduction\n",
        "\n",
        "---\n",
        "\n",
        "On cherche a faire un réseau qui prédit si un nombre est un nombre premier. \n",
        "\n",
        "On va utiliser l'apprentissage supervisé avec une classification binaire (nombres premiers et les multiples). On va diviser les données en 2 groupes: entrainement et test. Pour les algorithmes on va essayer les méthodes Linear SVM, RBF SVM, Random Forest, etc; et voir quelle est la méthode qui prédit mieux les nombres premiers dehors des données d'apprentissage.\n",
        "\n",
        "---\n",
        "\n",
        "Dans ce Notebook nous allons voir si un réseau de neurones est capable de prédire si un nombre est premier ou non en lui montrant un jeu de données de plusieurs millions de nombres premiers.\n",
        "\n",
        "Nous allons pour cela tester 2 types de datasets différents, un contenant les multiples des nombres et un autre sans, afin de voir comment cette information va impacter l'apprentissage du réseau et par conséquent ses prédicitons."
      ]
    },
    {
      "cell_type": "markdown",
      "metadata": {
        "id": "Po98q2gjTD8o"
      },
      "source": [
        "## Importations néscessaires"
      ]
    },
    {
      "cell_type": "code",
      "metadata": {
        "id": "jE7Fg1N-LwE4",
        "colab": {
          "base_uri": "https://localhost:8080/"
        },
        "outputId": "1c8a456a-3040-4bdb-f9dd-7d37279352db"
      },
      "source": [
        "%tensorflow_version 1.x\n",
        "import numpy as np\n",
        "import tensorflow as tf\n",
        "import matplotlib.pyplot as plt\n",
        "%matplotlib inline\n",
        "import pandas as pd\n",
        "import keras\n",
        "import keras.models as km\n",
        "import keras.layers as kl"
      ],
      "execution_count": 12,
      "outputs": [
        {
          "output_type": "stream",
          "text": [
            "Using TensorFlow backend.\n"
          ],
          "name": "stderr"
        }
      ]
    },
    {
      "cell_type": "markdown",
      "metadata": {
        "id": "7fOzJ020T7V8"
      },
      "source": [
        "## Données"
      ]
    },
    {
      "cell_type": "code",
      "metadata": {
        "cellView": "form",
        "id": "0n8lKa9bXPDU"
      },
      "source": [
        "#@title Options pour les datasets\n",
        "#@markdown Choisissez les datasets à importer\n",
        "\n",
        "use_primes = True #@param {type:\"boolean\"}\n",
        "suffix = \"\" if use_primes else \"_mini\"\n",
        "use_primes_with_multiples = True #@param {type:\"boolean\"}\n",
        "suffix = \"\" if use_primes_with_multiples else \"_mini\""
      ],
      "execution_count": 4,
      "outputs": []
    },
    {
      "cell_type": "code",
      "metadata": {
        "id": "UpoxLCSG9B15",
        "colab": {
          "base_uri": "https://localhost:8080/"
        },
        "cellView": "form",
        "outputId": "548eb811-cfe2-41e4-8b94-db1abe85c5c8"
      },
      "source": [
        "#@title Télécharger les données\n",
        "\n",
        "#@markdown Ceci va télécharger l'archive depuis Github et la décompresser dans le répertoire `data`\n",
        "\n",
        "import sys\n",
        "import os\n",
        "import tarfile\n",
        "from urllib.request import urlretrieve\n",
        "\n",
        "URL = \"https://github.com/Undreak/MML_Nombres_Premiers/raw/master\"\n",
        "FILES = [\n",
        "    \"prime_with_multiples.tar.gz\",\n",
        "    \"primes.tar.gz\"\n",
        "]\n",
        "\n",
        "\n",
        "def download_data(output_dir, use_primes=True, use_primes_with_multiples=False):\n",
        "  if use_primes_with_multiples:\n",
        "    file = FILES[0]\n",
        "  if use_primes:\n",
        "    file = FILES[1]\n",
        "  if use_primes and use_primes_with_multiples:\n",
        "    files = FILES\n",
        "  urls = [\n",
        "         f\"{URL}/{filename}\"\n",
        "         for filename in files\n",
        "  ]\n",
        "  \n",
        "  if not os.path.exists(output_dir):\n",
        "    print(f\"Création du répertoire {output_dir}\")\n",
        "    os.mkdir(output_dir)\n",
        "  \n",
        "  for url, filename in zip(urls, files):\n",
        "    output_file = os.path.join(output_dir, filename)\n",
        "    if os.path.exists(output_file):\n",
        "      print(f\"{filename} déjà téléchargé.\")\n",
        "      continue\n",
        "\n",
        "    print(f\"Téléchargement à partir de {url}...\")\n",
        "    urlretrieve(url, output_file)\n",
        "    print(f\"==> Fichier enregistré sous {output_file}\")\n",
        "\n",
        "    if filename.endswith(\"tar.gz\"):\n",
        "      print(\"Extraction de l'archive...\")\n",
        "      with tarfile.open(output_file, \"r:gz\") as f:\n",
        "        f.extractall(output_dir)\n",
        "      print(\"Terminé.\\n\")\n",
        "\n",
        "download_data(\"data\", use_primes, use_primes_with_multiples)"
      ],
      "execution_count": 10,
      "outputs": [
        {
          "output_type": "stream",
          "text": [
            "prime_with_multiples.tar.gz déjà téléchargé.\n",
            "primes.tar.gz déjà téléchargé.\n"
          ],
          "name": "stdout"
        }
      ]
    },
    {
      "cell_type": "markdown",
      "metadata": {
        "id": "UcnHaILQ2Azo"
      },
      "source": [
        "### Préparation des datasets\n",
        "\n",
        "Les bases de données au format `.accdb` sont disponible ici: https://aaabit.com/Prime-Numbers\n",
        "\n",
        "On a exécuté la fonction suivante pour convertir les fichiers."
      ]
    },
    {
      "cell_type": "code",
      "metadata": {
        "id": "RseBQNhr2Azo"
      },
      "source": [
        "import pypyodbc\n",
        "import numpy as np\n",
        "pypyodbc.lowercase = False\n",
        "conn = pypyodbc.connect(\n",
        "    r\"Driver={Microsoft Access Driver (*.mdb, *.accdb)};\" +\n",
        "    r\"Dbq=C:\\\\Users\\\\leibn\\\\Prime numbers\\\\nom_du_fichier.accdb;\") #Ici il faut remplacer par le nom du fichier en format access\n",
        "cur = conn.cursor()\n",
        "cur.execute(\"SELECT prime_index, prime_n FROM primes_tbl\");\n",
        "n=7603553  #n: quantité de nombres premiers qui sont dans le dataset\n",
        "prime=np.zeros(n)\n",
        "i=0\n",
        "for i in range(n):\n",
        "    row = cur.fetchone()\n",
        "    prime[i]=row.get(\"prime_n\")\n",
        "print(prime)\n",
        "cur.close()\n",
        "conn.close()"
      ],
      "execution_count": null,
      "outputs": []
    },
    {
      "cell_type": "markdown",
      "metadata": {
        "id": "CIEyJyJd4DP0"
      },
      "source": [
        "Puis pour obtenir les multiples des nombres du dataset nous avons utilisé ces fonctions."
      ]
    },
    {
      "cell_type": "code",
      "metadata": {
        "id": "feA7m9hH2Azo"
      },
      "source": [
        "def numbers_to_digits(number,max_digit,base): #Cette fonction convertit les nombres en chiffres en base decimale\n",
        "    tab=np.zeros(max_digit)\n",
        "    i=0\n",
        "    for i in range(max_digit):\n",
        "        tab[i]=number%base\n",
        "        number=number//base\n",
        "    return tab\n",
        "\n",
        "def add_random_multiples(tab,max_digit,base): #Cette fonction ajoute des nombres multiples au dataset\n",
        "    dim=2*len(tab)-1\n",
        "    output_tab=np.zeros((dim,max_digit+1))\n",
        "    output_tab[0][0]=0\n",
        "    output_tab[0,1:]=numbers_to_digits(1,max_digit,base)\n",
        "    i=0\n",
        "    prev_value=1\n",
        "    p=1\n",
        "    while p<dim:\n",
        "        diff=tab[i]-prev_value\n",
        "        if diff==1:\n",
        "            output_tab[p][0]=1\n",
        "            output_tab[p,1:]=numbers_to_digits(tab[i],max_digit,base)\n",
        "            prev_value=tab[i]\n",
        "            p=p+1\n",
        "            i=i+1\n",
        "        elif diff==2:\n",
        "            output_tab[p][0]=0\n",
        "            output_tab[p,1:]=numbers_to_digits(tab[i]-1,max_digit,base)\n",
        "            p=p+1\n",
        "            output_tab[p][0]=1\n",
        "            output_tab[p,1:]=numbers_to_digits(tab[i],max_digit,base)\n",
        "            prev_value=tab[i]\n",
        "            p=p+1\n",
        "            i=i+1\n",
        "            if i==len(tab):\n",
        "                p=dim\n",
        "            else:\n",
        "                pass\n",
        "        elif diff>2:\n",
        "            random=np.random.randint(1,diff)\n",
        "            output_tab[p][0]=0\n",
        "            output_tab[p,1:]=numbers_to_digits(tab[i-1]+random,max_digit,base)\n",
        "            p=p+1\n",
        "            output_tab[p][0]=1\n",
        "            output_tab[p,1:]=numbers_to_digits(tab[i],max_digit,base)\n",
        "            prev_value=tab[i]\n",
        "            p=p+1\n",
        "            i=i+1\n",
        "            if i==len(tab):\n",
        "                p=dim\n",
        "            else:\n",
        "                pass\n",
        "        else:\n",
        "            pass\n",
        "    return output_tab\n",
        "            "
      ],
      "execution_count": 4,
      "outputs": []
    },
    {
      "cell_type": "markdown",
      "metadata": {
        "id": "tiyzcXB34IU0"
      },
      "source": [
        "Les données compressé téléchargé depuis Github sont déjà préparé au format `.csv` et peuvent être lu par pandas ou numpy."
      ]
    },
    {
   "cell_type": "markdown",
   "metadata": {},
   "source": [
    "Si on veux travailler avec un dataset en base décimale:"
   ]
  },
  {
   "cell_type": "code",
   "execution_count": null,
   "metadata": {},
   "outputs": [],
   "source": [
    "prime_with_multiples=add_random_multiples(prime,9,10)\n",
    "df = pd.DataFrame({'prime': prime_with_multiples[:,0],\n",
    "                   '1': prime_with_multiples[:,1],\n",
    "                   '2': prime_with_multiples[:,2],\n",
    "                   '3': prime_with_multiples[:,3],\n",
    "                   '4': prime_with_multiples[:,4],\n",
    "                   '5': prime_with_multiples[:,5],\n",
    "                   '6': prime_with_multiples[:,6],\n",
    "                   '7': prime_with_multiples[:,7],\n",
    "                   '8': prime_with_multiples[:,8],\n",
    "                   '9': prime_with_multiples[:,9]})\n",
    "df.to_csv('prime_with_multiples_binaire.csv', index=False)"
   ]
  },
  {
   "cell_type": "markdown",
   "metadata": {},
   "source": [
    "Si on veux travailler avec un dataset binaire:"
   ]
  },
  {
   "cell_type": "code",
   "execution_count": 8,
   "metadata": {},
   "outputs": [],
   "source": [
    "prime_with_multiples=add_random_multiples(prime,28,2)\n",
    "df_binaire = pd.DataFrame({'prime': prime_with_multiples[:,0],\n",
    "                   '1': prime_with_multiples[:,1],\n",
    "                   '2': prime_with_multiples[:,2],\n",
    "                   '3': prime_with_multiples[:,3],\n",
    "                   '4': prime_with_multiples[:,4],\n",
    "                   '5': prime_with_multiples[:,5],\n",
    "                   '6': prime_with_multiples[:,6],\n",
    "                   '7': prime_with_multiples[:,7],\n",
    "                   '8': prime_with_multiples[:,8],\n",
    "                   '9': prime_with_multiples[:,9],\n",
    "                   '10': prime_with_multiples[:,10],\n",
    "                   '11': prime_with_multiples[:,11],\n",
    "                   '12': prime_with_multiples[:,12],\n",
    "                   '13': prime_with_multiples[:,13],\n",
    "                   '14': prime_with_multiples[:,14],\n",
    "                   '15': prime_with_multiples[:,15],\n",
    "                   '16': prime_with_multiples[:,16],\n",
    "                   '17': prime_with_multiples[:,17],\n",
    "                   '18': prime_with_multiples[:,18],\n",
    "                   '19': prime_with_multiples[:,19],\n",
    "                   '20': prime_with_multiples[:,20],\n",
    "                   '21': prime_with_multiples[:,21],\n",
    "                   '22': prime_with_multiples[:,22],\n",
    "                   '23': prime_with_multiples[:,23],\n",
    "                   '24': prime_with_multiples[:,24],\n",
    "                   '25': prime_with_multiples[:,25],\n",
    "                   '26': prime_with_multiples[:,26],\n",
    "                   '27': prime_with_multiples[:,27],\n",
    "                   '28': prime_with_multiples[:,28]})\n",
    "df_binaire.to_csv('prime_with_multiples_binaire.csv', index=False)"
   ]
  },
    {
      "cell_type": "markdown",
      "metadata": {
        "id": "BQhQocE-T_Uo"
      },
      "source": [
        "### Charger les données"
      ]
    },
    {
      "cell_type": "markdown",
      "metadata": {
        "id": "jmevFowGid-Q"
      },
      "source": [
        "Chargement des données du dataset sans les multiples"
      ]
    },
    {
      "cell_type": "code",
      "metadata": {
        "id": "pwxK332XMGMg"
      },
      "source": [
        "data = pd.read_csv('data/primes.csv', skiprows=1, delimiter=',').astype(int)"
      ],
      "execution_count": 42,
      "outputs": []
    },
    {
      "cell_type": "code",
      "metadata": {
        "id": "OWEe3zoaMc08"
      },
      "source": [
        "N = 100000\n",
        "\n",
        "X_train = np.arange(2,N+2)\n",
        "Y_train = np.isin(X_train, data['2'][:N])*1\n",
        "\n",
        "X_test = np.arange(N+3, 2*N+3)\n",
        "Y_test = np.isin(X_test, data['2'][N+3:2*N+3])*1"
      ],
      "execution_count": 196,
      "outputs": []
    },
    {
      "cell_type": "markdown",
      "metadata": {
        "id": "0_Lw3l7ciWCc"
      },
      "source": [
        "Chargement des données du dataset avec les multiples"
      ]
    },
    {
      "cell_type": "code",
      "metadata": {
        "id": "dBiFMXFc2Azo"
      },
      "source": [
        "df = pd.read_csv(\"data/prime_with_multiples.csv\")"
      ],
      "execution_count": 75,
      "outputs": []
    },
    {
      "cell_type": "code",
      "metadata": {
        "id": "O9v0UTuW2Azo"
      },
      "source": [
        "N = 100000\n",
        "\n",
        "Y_train = df['prime'][:N]\n",
        "X_train = np.zeros((N,9))\n",
        "for i in range(9):\n",
        "  X_train[:,i] = df[f\"{i+1}\"][:N]\n",
        "\n",
        "Y_test = df['prime'][N+1:2*N+1]\n",
        "X_test = np.zeros((N,9))\n",
        "for i in range(9):\n",
        "  X_test[:,i] = df[f\"{i+1}\"][N+1:2*N+1]"
      ],
      "execution_count": 191,
      "outputs": []
    },
    {
      "cell_type": "markdown",
      "metadata": {
        "id": "4ac6-38AWFn8"
      },
      "source": [
        "## Modèle"
      ]
    },
    {
      "cell_type": "markdown",
      "metadata": {
        "id": "MbQdx7cMzmSA"
      },
      "source": [
        "On construit un réseau de neurones convolutif"
      ]
    },
    {
      "cell_type": "code",
      "metadata": {
        "id": "VCH_NzVNMgAE",
        "colab": {
          "base_uri": "https://localhost:8080/"
        },
        "outputId": "4ff89db6-df85-4e4e-c0c5-bcce5ab9a45f"
      },
      "source": [
        "f_activation = 'relu'\n",
        "l_activation = 'sigmoid'\n",
        "dropout_rate = 0.05\n",
        "if use_primes_with_multiples:\n",
        "  input_dim = 9\n",
        "else:\n",
        "  input_dim = 1\n",
        "model = tf.keras.Sequential([\n",
        "  tf.keras.layers.Dense(16, activation=f_activation, input_dim=input_dim),\n",
        "  tf.keras.layers.Dropout(dropout_rate),\n",
        "  tf.keras.layers.Dense(32, activation=f_activation),\n",
        "  tf.keras.layers.Dropout(dropout_rate),\n",
        "  tf.keras.layers.Dense(32, activation=f_activation),\n",
        "  tf.keras.layers.Dropout(dropout_rate),\n",
        "  tf.keras.layers.Dense(64, activation=f_activation),\n",
        "  tf.keras.layers.Dropout(dropout_rate),\n",
        "  tf.keras.layers.Dense(128, activation=f_activation),\n",
        "  tf.keras.layers.Dropout(dropout_rate),\n",
        "  tf.keras.layers.Dense(1, activation=l_activation)\n",
        "])\n",
        "\n",
        "model.compile(optimizer='Adam', loss='binary_crossentropy')\n",
        "model.summary()"
      ],
      "execution_count": 197,
      "outputs": [
        {
          "output_type": "stream",
          "text": [
            "Model: \"sequential_16\"\n",
            "_________________________________________________________________\n",
            "Layer (type)                 Output Shape              Param #   \n",
            "=================================================================\n",
            "dense_96 (Dense)             (None, 16)                32        \n",
            "_________________________________________________________________\n",
            "dropout_80 (Dropout)         (None, 16)                0         \n",
            "_________________________________________________________________\n",
            "dense_97 (Dense)             (None, 32)                544       \n",
            "_________________________________________________________________\n",
            "dropout_81 (Dropout)         (None, 32)                0         \n",
            "_________________________________________________________________\n",
            "dense_98 (Dense)             (None, 32)                1056      \n",
            "_________________________________________________________________\n",
            "dropout_82 (Dropout)         (None, 32)                0         \n",
            "_________________________________________________________________\n",
            "dense_99 (Dense)             (None, 64)                2112      \n",
            "_________________________________________________________________\n",
            "dropout_83 (Dropout)         (None, 64)                0         \n",
            "_________________________________________________________________\n",
            "dense_100 (Dense)            (None, 128)               8320      \n",
            "_________________________________________________________________\n",
            "dropout_84 (Dropout)         (None, 128)               0         \n",
            "_________________________________________________________________\n",
            "dense_101 (Dense)            (None, 1)                 129       \n",
            "=================================================================\n",
            "Total params: 12,193\n",
            "Trainable params: 12,193\n",
            "Non-trainable params: 0\n",
            "_________________________________________________________________\n"
          ],
          "name": "stdout"
        }
      ]
    },
    {
      "cell_type": "code",
      "metadata": {
        "id": "DgClycNqaqJ0",
        "colab": {
          "base_uri": "https://localhost:8080/"
        },
        "outputId": "e2de870f-3ce8-4ea4-ac35-a00aeaae11c9"
      },
      "source": [
        "history = model.fit(X_train, Y_train,\n",
        "  batch_size=32,\n",
        "  epochs=15,\n",
        "  validation_split=0.3,\n",
        "  verbose=1)"
      ],
      "execution_count": 198,
      "outputs": [
        {
          "output_type": "stream",
          "text": [
            "Train on 70000 samples, validate on 30000 samples\n",
            "Epoch 1/15\n",
            "70000/70000 [==============================] - 13s 183us/sample - loss: 6.0540 - val_loss: 0.3002\n",
            "Epoch 2/15\n",
            "70000/70000 [==============================] - 10s 147us/sample - loss: 0.3910 - val_loss: 0.2995\n",
            "Epoch 3/15\n",
            "70000/70000 [==============================] - 10s 141us/sample - loss: 0.3442 - val_loss: 0.3001\n",
            "Epoch 4/15\n",
            "70000/70000 [==============================] - 10s 145us/sample - loss: 0.3271 - val_loss: 0.3013\n",
            "Epoch 5/15\n",
            "70000/70000 [==============================] - 10s 140us/sample - loss: 0.3285 - val_loss: 0.2999\n",
            "Epoch 6/15\n",
            "70000/70000 [==============================] - 10s 138us/sample - loss: 0.3283 - val_loss: 0.2997\n",
            "Epoch 7/15\n",
            "70000/70000 [==============================] - 10s 138us/sample - loss: 0.3256 - val_loss: 0.3007\n",
            "Epoch 8/15\n",
            "70000/70000 [==============================] - 10s 139us/sample - loss: 0.3239 - val_loss: 0.2991\n",
            "Epoch 9/15\n",
            "70000/70000 [==============================] - 10s 139us/sample - loss: 0.3246 - val_loss: 0.3006\n",
            "Epoch 10/15\n",
            "70000/70000 [==============================] - 10s 143us/sample - loss: 0.3240 - val_loss: 0.3011\n",
            "Epoch 11/15\n",
            "70000/70000 [==============================] - 10s 147us/sample - loss: 0.3252 - val_loss: 0.3020\n",
            "Epoch 12/15\n",
            "70000/70000 [==============================] - 10s 144us/sample - loss: 0.3241 - val_loss: 0.2992\n",
            "Epoch 13/15\n",
            "70000/70000 [==============================] - 10s 138us/sample - loss: 0.3252 - val_loss: 0.3009\n",
            "Epoch 14/15\n",
            "70000/70000 [==============================] - 10s 144us/sample - loss: 0.3235 - val_loss: 0.2998\n",
            "Epoch 15/15\n",
            "70000/70000 [==============================] - 10s 148us/sample - loss: 0.3234 - val_loss: 0.3015\n"
          ],
          "name": "stdout"
        }
      ]
    },
    {
      "cell_type": "code",
      "metadata": {
        "id": "7CxYpKg9a4JI",
        "colab": {
          "base_uri": "https://localhost:8080/",
          "height": 314
        },
        "outputId": "c5cae494-925a-4238-e674-55f22f29ff05"
      },
      "source": [
        "plt.figure()                    \n",
        "plt.plot(history.history['loss'], label='training')\n",
        "plt.plot(history.history['val_loss'], label='validation')\n",
        "plt.xlabel('epochs')\n",
        "plt.ylabel('loss')\n",
        "plt.yscale('log')\n",
        "plt.legend()\n",
        "plt.show()\n",
        "\n",
        "ev = model.evaluate(X_test, Y_test)\n",
        "print(ev)"
      ],
      "execution_count": 199,
      "outputs": [
        {
          "output_type": "display_data",
          "data": {
            "image/png": "[encoded data removed]",
            "text/plain": [
              "<Figure size 432x288 with 1 Axes>"
            ]
          },
          "metadata": {
            "tags": [],
            "needs_background": "light"
          }
        },
        {
          "output_type": "stream",
          "text": [
            "100000/100000 [==============================] - 6s 55us/sample - loss: 0.1158\n",
            "0.11576534062623978\n"
          ],
          "name": "stdout"
        }
      ]
    },
    {
      "cell_type": "markdown",
      "metadata": {
        "id": "CimvXlYd2Azo"
      },
      "source": [
        "### Réseau utilisé pour le dataset avec multiples"
      ]
    },
    {
      "cell_type": "code",
      "metadata": {
        "id": "rcHJqzvo2Azo"
      },
      "source": [
        "model = km.Sequential()\n",
        "activation_input='tanh'\n",
        "model.add(kl.Dense(100, activation=activation_input , input_dim=9))\n",
        "model.add(kl.Dense(50, activation=activation_input ))\n",
        "model.add(kl.Dense(20, activation=activation_input ))\n",
        "model.add(kl.Dense(10, activation=activation_input ))\n",
        "model.add(kl.Dense(5, activation=activation_input ))\n",
        "model.add(kl.Dense(1, activation='linear'))\n",
        "model.compile(optimizer='Adam', loss='mse')"
      ],
      "execution_count": 182,
      "outputs": []
    },
    {
      "cell_type": "markdown",
      "metadata": {
        "id": "xjIVlybohzWI"
      },
      "source": [
        "## Résultats"
      ]
    },
    {
      "cell_type": "code",
      "metadata": {
        "id": "zc_LX-Hz4hTQ"
      },
      "source": [
        ""
      ],
      "execution_count": null,
      "outputs": []
    }
  ]
}
