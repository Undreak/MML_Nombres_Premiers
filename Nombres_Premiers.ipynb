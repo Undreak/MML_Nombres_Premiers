{
  "nbformat": 4,
  "nbformat_minor": 0,
  "metadata": {
    "kernelspec": {
      "display_name": "Python 3",
      "language": "python",
      "name": "python3"
    },
    "language_info": {
      "codemirror_mode": {
        "name": "ipython",
        "version": 3
      },
      "file_extension": ".py",
      "mimetype": "text/x-python",
      "name": "python",
      "nbconvert_exporter": "python",
      "pygments_lexer": "ipython3",
      "version": "3.9.2"
    },
    "colab": {
      "name": "Copy of Nombres_Premiers.ipynb",
      "provenance": [],
      "collapsed_sections": [],
      "toc_visible": true,
      "include_colab_link": true
    }
  },
  "cells": [
    {
      "cell_type": "markdown",
      "metadata": {
        "id": "view-in-github",
        "colab_type": "text"
      },
      "source": [
        "<a href=\"https://colab.research.google.com/github/Undreak/MML_Nombres_Premiers/blob/master/Nombres_Premiers.ipynb\" target=\"_parent\"><img src=\"https://colab.research.google.com/assets/colab-badge.svg\" alt=\"Open In Colab\"/></a>"
      ]
    },
    {
      "cell_type": "markdown",
      "metadata": {
        "id": "Hm3QK_MnBuRo"
      },
      "source": [
        "# Notebook Nombres Premiers"
      ]
    },
    {
      "cell_type": "markdown",
      "metadata": {
        "id": "Po98q2gjTD8o"
      },
      "source": [
        "## Importations néscessaires"
      ]
    },
    {
      "cell_type": "code",
      "metadata": {
        "id": "jE7Fg1N-LwE4",
        "colab": {
          "base_uri": "https://localhost:8080/"
        },
        "outputId": "caa23b9b-e03c-4cd9-86fc-9dccef618365"
      },
      "source": [
        "%tensorflow_version 1.x\n",
        "import numpy as np\n",
        "import tensorflow as tf\n",
        "import matplotlib.pyplot as plt\n",
        "%matplotlib inline"
      ],
      "execution_count": 1,
      "outputs": [
        {
          "output_type": "stream",
          "text": [
            "TensorFlow 1.x selected.\n"
          ],
          "name": "stdout"
        }
      ]
    },
    {
      "cell_type": "markdown",
      "metadata": {
        "id": "7fOzJ020T7V8"
      },
      "source": [
        "## Données"
      ]
    },
    {
      "cell_type": "code",
      "metadata": {
        "id": "UpoxLCSG9B15",
        "colab": {
          "base_uri": "https://localhost:8080/"
        },
        "cellView": "form",
        "outputId": "4d0aa44d-ad36-4b0d-bc8b-e654c93bf5a3"
      },
      "source": [
        "#@title Télécharger les données\n",
        "\n",
        "#@markdown Ceci va télécharger l'archive depuis Github et la décompresser dans le dossier `data`\n",
        "\n",
        "import sys\n",
        "import os\n",
        "import tarfile\n",
        "from urllib.request import urlretrieve\n",
        "\n",
        "URL = \"https://github.com/Undreak/MML_Nombres_Premiers/raw/master/primes.tar.gz\"\n",
        "FILE = \"primes.tar.gz\"\n",
        "\n",
        "def download_data(output_dir):\n",
        "\n",
        "  if not os.path.exists(output_dir):\n",
        "    print(f\"Creating directory {output_dir}\")\n",
        "    os.mkdir(output_dir)\n",
        "\n",
        "  output_file = os.path.join(output_dir, FILE)\n",
        "  if os.path.exists(output_file):\n",
        "    print(f\"{FILE} already downloaded.\")\n",
        "\n",
        "  print(f\"Downloading from {URL}...\")\n",
        "  urlretrieve(URL, output_file)\n",
        "  print(f\"==> File saved as {output_file}\")\n",
        "\n",
        "  if FILE.endswith(\"tar.gz\"):\n",
        "    print(\"Extracting tarball...\")\n",
        "    with tarfile.open(output_file, \"r:gz\") as f:\n",
        "      f.extractall(output_dir)\n",
        "    print(\"Done.\")\n",
        "\n",
        "download_data(\"data\")"
      ],
      "execution_count": 2,
      "outputs": [
        {
          "output_type": "stream",
          "text": [
            "Creating directory data\n",
            "Downloading from https://github.com/Undreak/MML_Nombres_Premiers/raw/master/primes.tar.gz...\n",
            "==> File saved as data/primes.tar.gz\n",
            "Extracting tarball...\n",
            "Done.\n"
          ],
          "name": "stdout"
        }
      ]
    },
    {
      "cell_type": "markdown",
      "metadata": {
        "id": "BQhQocE-T_Uo"
      },
      "source": [
        "### Charger les données"
      ]
    },
    {
      "cell_type": "code",
      "metadata": {
        "id": "pwxK332XMGMg"
      },
      "source": [
        "data = np.loadtxt('data/primes.csv', skiprows=1, delimiter=',').astype(int)"
      ],
      "execution_count": 3,
      "outputs": []
    },
    {
      "cell_type": "markdown",
      "metadata": {
        "id": "zW_rY8RGzcGc"
      },
      "source": [
        "On prépare les données pour l'entrainnement et le test."
      ]
    },
    {
      "cell_type": "code",
      "metadata": {
        "id": "OWEe3zoaMc08"
      },
      "source": [
        "N = 10000\n",
        "\n",
        "X_train = np.arange(2,N+2)\n",
        "Y_train = np.isin(X_train, data[:N+2,1])*1\n",
        "\n",
        "X_test = np.arange(N+3, 2*N+3)\n",
        "Y_test = np.isin(X_test, data[N+3:2*N+3,1])*1"
      ],
      "execution_count": 4,
      "outputs": []
    },
    {
      "cell_type": "markdown",
      "metadata": {
        "id": "4ac6-38AWFn8"
      },
      "source": [
        "## Modèle"
      ]
    },
    {
      "cell_type": "markdown",
      "metadata": {
        "id": "MbQdx7cMzmSA"
      },
      "source": [
        "On construit un réseau de neurones convolutif"
      ]
    },
    {
      "cell_type": "code",
      "metadata": {
        "id": "VCH_NzVNMgAE",
        "colab": {
          "base_uri": "https://localhost:8080/"
        },
        "outputId": "667d7c11-d0e1-43a0-c563-8123a0d806cc"
      },
      "source": [
        "f_activation = 'relu'\n",
        "l_activation = 'sigmoid'\n",
        "dropout_rate = 0.05\n",
        "model = tf.keras.Sequential([\n",
        "  tf.keras.layers.Dense(8, activation=f_activation, input_dim=1),\n",
        "  tf.keras.layers.Dropout(dropout_rate),\n",
        "  tf.keras.layers.Dense(16, activation=f_activation),\n",
        "  tf.keras.layers.Dropout(dropout_rate),\n",
        "  tf.keras.layers.Dense(16, activation=f_activation),\n",
        "  tf.keras.layers.Dropout(dropout_rate),\n",
        "  tf.keras.layers.Dense(32, activation=f_activation),\n",
        "  tf.keras.layers.Dropout(dropout_rate),\n",
        "  tf.keras.layers.Dense(64, activation=f_activation),\n",
        "  tf.keras.layers.Dropout(dropout_rate),\n",
        "  tf.keras.layers.Dense(1, activation=l_activation)\n",
        "])\n",
        "\n",
        "model.compile(optimizer='Adam', loss='binary_crossentropy')\n",
        "model.summary()"
      ],
      "execution_count": 65,
      "outputs": [
        {
          "output_type": "stream",
          "text": [
            "Model: \"sequential_14\"\n",
            "_________________________________________________________________\n",
            "Layer (type)                 Output Shape              Param #   \n",
            "=================================================================\n",
            "dense_86 (Dense)             (None, 8)                 16        \n",
            "_________________________________________________________________\n",
            "dropout_71 (Dropout)         (None, 8)                 0         \n",
            "_________________________________________________________________\n",
            "dense_87 (Dense)             (None, 16)                144       \n",
            "_________________________________________________________________\n",
            "dropout_72 (Dropout)         (None, 16)                0         \n",
            "_________________________________________________________________\n",
            "dense_88 (Dense)             (None, 16)                272       \n",
            "_________________________________________________________________\n",
            "dropout_73 (Dropout)         (None, 16)                0         \n",
            "_________________________________________________________________\n",
            "dense_89 (Dense)             (None, 32)                544       \n",
            "_________________________________________________________________\n",
            "dropout_74 (Dropout)         (None, 32)                0         \n",
            "_________________________________________________________________\n",
            "dense_90 (Dense)             (None, 64)                2112      \n",
            "_________________________________________________________________\n",
            "dropout_75 (Dropout)         (None, 64)                0         \n",
            "_________________________________________________________________\n",
            "dense_91 (Dense)             (None, 1)                 65        \n",
            "=================================================================\n",
            "Total params: 3,153\n",
            "Trainable params: 3,153\n",
            "Non-trainable params: 0\n",
            "_________________________________________________________________\n"
          ],
          "name": "stdout"
        }
      ]
    },
    {
      "cell_type": "code",
      "metadata": {
        "id": "DgClycNqaqJ0"
      },
      "source": [
        "history = model.fit(X_train, Y_train,\n",
        "  batch_size=32,\n",
        "  epochs=15,\n",
        "  validation_split=0.3,\n",
        "  verbose=0)"
      ],
      "execution_count": 66,
      "outputs": []
    },
    {
      "cell_type": "code",
      "metadata": {
        "id": "7CxYpKg9a4JI",
        "colab": {
          "base_uri": "https://localhost:8080/",
          "height": 279
        },
        "outputId": "9abf7b0f-53ea-48dd-d053-458031d526ed"
      },
      "source": [
        "plt.figure()                    \n",
        "plt.plot(history.history['loss'], label='training')\n",
        "plt.plot(history.history['val_loss'], label='validation')\n",
        "plt.xlabel('epochs')\n",
        "plt.ylabel('loss')\n",
        "plt.yscale('log')\n",
        "plt.legend()\n",
        "plt.show()"
      ],
      "execution_count": 67,
      "outputs": [
        {
          "output_type": "display_data",
          "data": {
            "image/png": "[encoded data removed]",
            "text/plain": [
              "<Figure size 432x288 with 1 Axes>"
            ]
          },
          "metadata": {
            "tags": [],
            "needs_background": "light"
          }
        }
      ]
    },
    {
      "cell_type": "code",
      "metadata": {
        "colab": {
          "base_uri": "https://localhost:8080/"
        },
        "id": "77vXPl6x1kn8",
        "outputId": "41d6180c-3f53-4ac8-aaa0-d2282bb3c90e"
      },
      "source": [
        "ev = model.evaluate(X_test, Y_test)\n",
        "print(ev)"
      ],
      "execution_count": 68,
      "outputs": [
        {
          "output_type": "stream",
          "text": [
            "10000/10000 [==============================] - 0s 29us/sample - loss: 0.1089\n",
            "0.108921429169178\n"
          ],
          "name": "stdout"
        }
      ]
    },
    {
      "cell_type": "code",
      "metadata": {
        "id": "mi7oGnmTgWas"
      },
      "source": [
        ""
      ],
      "execution_count": 64,
      "outputs": []
    }
  ]
}