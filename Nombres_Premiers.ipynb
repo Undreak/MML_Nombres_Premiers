{
 "cells": [
  {
   "cell_type": "markdown",
   "metadata": {
    "id": "Hm3QK_MnBuRo"
   },
   "source": [
    "# Notebook Nombres Premiers\n",
    "\n",
    "> **Groupe D**\n",
    ">\n",
    "> Alexandre De Cuyper\n",
    ">\n",
    "> Hendrix Montalvan"
   ]
  },
  {
   "cell_type": "markdown",
   "metadata": {
    "id": "OTRwUAjZ2dP8"
   },
   "source": [
    "1. [Introduction](#Introduction)\n",
    "2. [Données](#Données)\n",
    "3. [Modèle](#Modèle)\n",
    "4. [Visualisation](#Visualisation)\n",
    "5. [Résultats](#Résultats)"
   ]
  },
  {
   "cell_type": "markdown",
   "metadata": {
    "id": "m1boAklI2Zr0"
   },
   "source": [
    "# Introduction\n",
    "\n",
    "---\n",
    "\n",
    "On cherche a faire un réseau qui prédit si un nombre est un nombre premier. \n",
    "\n",
    "On va utiliser l'apprentissage supervisé avec une classification binaire (nombres premiers et les multiples). On va diviser les données en 2 groupes: entrainement et test. \n",
    "\n",
    "Dans ce Notebook nous allons voir si un réseau de neurones est capable de prédire si un nombre est premier ou non en lui montrant un jeu de données de plusieurs millions de nombres premiers et de multiples.\n",
    "\n",
    "Nous allons aussi tester 2 types de datasets différents, un en base décimal et un en base binaire pour voir si cela a un impact sur les prédicitons faite par le modèle. "
   ]
  },
  {
   "cell_type": "markdown",
   "metadata": {
    "id": "Po98q2gjTD8o"
   },
   "source": [
    "## Importations néscessaires"
   ]
  },
  {
   "cell_type": "code",
   "execution_count": 147,
   "metadata": {
    "id": "G8F0TfK4oHnO"
   },
   "outputs": [],
   "source": [
    "import numpy as np\n",
    "import matplotlib.pyplot as plt\n",
    "import matplotlib.colors as col\n",
    "from mpl_toolkits.mplot3d import Axes3D\n",
    "\n",
    "#import os ; os.environ['KERAS_BACKEND'] = 'theano'\n",
    "import keras\n",
    "import keras.models as km\n",
    "import keras.layers as kl\n",
    "from tensorflow.keras import regularizers\n",
    "import pandas as pd\n",
    "import tensorflow as tf\n",
    "from sklearn.model_selection import train_test_split\n",
    "import random"
   ]
  },
  {
   "cell_type": "markdown",
   "metadata": {
    "id": "7fOzJ020T7V8"
   },
   "source": [
    "# Données"
   ]
  },
  {
   "cell_type": "code",
   "execution_count": 173,
   "metadata": {
    "id": "0n8lKa9bXPDU"
   },
   "outputs": [],
   "source": [
    "#@title Options pour les datasets à importer\n",
    "#@markdown `primes`: dataset contenant uniquement des nombres premiers\n",
    "\n",
    "#@markdown `primes_with_multiples`: dataset déjà préparé pour le réseau, contenant *50%* de nombres premiers et *50%* de multiples\n",
    "\n",
    "use_primes = True #@param {type:\"boolean\"}\n",
    "suffix = \"\" if use_primes else \"_mini\"\n",
    "use_primes_with_multiples = True #@param {type:\"boolean\"}\n",
    "suffix = \"\" if use_primes_with_multiples else \"_mini\""
   ]
  },
  {
   "cell_type": "code",
   "execution_count": 149,
   "metadata": {
    "cellView": "form",
    "colab": {
     "base_uri": "https://localhost:8080/"
    },
    "id": "UpoxLCSG9B15",
    "outputId": "1b9b8c0e-7b4a-4a2d-a4d1-bd4c87956226"
   },
   "outputs": [
    {
     "name": "stdout",
     "output_type": "stream",
     "text": [
      "prime_with_multiples.tar.gz déjà téléchargé.\n",
      "primes.tar.gz déjà téléchargé.\n"
     ]
    }
   ],
   "source": [
    "#@title Télécharger les données\n",
    "\n",
    "#@markdown Ceci va télécharger l'archive depuis Github et la décompresser dans le répertoire `data`\n",
    "\n",
    "import sys\n",
    "import os\n",
    "import tarfile\n",
    "from urllib.request import urlretrieve\n",
    "\n",
    "URL = \"https://github.com/Undreak/MML_Nombres_Premiers/raw/master\"\n",
    "FILES = [\n",
    "    \"prime_with_multiples.tar.gz\",\n",
    "    \"primes.tar.gz\"\n",
    "]\n",
    "\n",
    "\n",
    "def download_data(output_dir, use_primes=False, use_primes_with_multiples=False):\n",
    "  if use_primes_with_multiples:\n",
    "    files = [FILES[0], '']\n",
    "    urls = [f\"{URL}/{files}\", '']\n",
    "  if use_primes:\n",
    "    files = [FILES[1], '']\n",
    "    urls = [f\"{URL}/{files}\", '']\n",
    "  if use_primes and use_primes_with_multiples:\n",
    "    files = FILES\n",
    "    urls = [\n",
    "          f\"{URL}/{filename}\"\n",
    "          for filename in files\n",
    "    ]\n",
    "  \n",
    "  if not os.path.exists(output_dir):\n",
    "    print(f\"Création du répertoire {output_dir}\")\n",
    "    os.mkdir(output_dir)\n",
    "\n",
    "  for url, filename in zip(urls, files):\n",
    "    if url == '':\n",
    "      continue\n",
    "    output_file = os.path.join(output_dir, filename)\n",
    "    if os.path.exists(output_file):\n",
    "      print(f\"{filename} déjà téléchargé.\")\n",
    "      continue\n",
    "\n",
    "    print(f\"Téléchargement à partir de {url}...\")\n",
    "    urlretrieve(url, output_file)\n",
    "    print(f\"==> Fichier enregistré sous {output_file}\")\n",
    "\n",
    "    if filename.endswith(\"tar.gz\"):\n",
    "      print(\"Extraction de l'archive...\")\n",
    "      with tarfile.open(output_file, \"r:gz\") as f:\n",
    "        f.extractall(output_dir)\n",
    "      print(\"Terminé.\\n\")\n",
    "\n",
    "download_data(\"data\", use_primes, use_primes_with_multiples)"
   ]
  },
  {
   "cell_type": "markdown",
   "metadata": {
    "id": "BQhQocE-T_Uo"
   },
   "source": [
    "## Charger les données"
   ]
  },
  {
   "cell_type": "markdown",
   "metadata": {
    "id": "tiyzcXB34IU0"
   },
   "source": [
    "Les données téléchargé depuis Github sont déjà préparé au format `.csv` et peuvent être lu par pandas ou numpy."
   ]
  },
  {
   "cell_type": "markdown",
   "metadata": {
    "id": "jmevFowGid-Q"
   },
   "source": [
    "Chargement des données du dataset sans les multiples"
   ]
  },
  {
   "cell_type": "code",
   "execution_count": 150,
   "metadata": {
    "id": "pwxK332XMGMg"
   },
   "outputs": [],
   "source": [
    "primes = pd.read_csv('data/primes.csv', skiprows=1, delimiter=',').astype(int)['2']"
   ]
  },
  {
   "cell_type": "markdown",
   "metadata": {
    "id": "0_Lw3l7ciWCc"
   },
   "source": [
    "Chargement des données du dataset avec les multiples"
   ]
  },
  {
   "cell_type": "code",
   "execution_count": 5,
   "metadata": {
    "id": "dBiFMXFc2Azo"
   },
   "outputs": [],
   "source": [
    "primes_with_multiples = pd.read_csv(\"data/prime_with_multiples.csv\")"
   ]
  },
  {
   "cell_type": "markdown",
   "metadata": {
    "id": "CIEyJyJd4DP0"
   },
   "source": [
    "Pour obtenir les multiples des nombres du dataset `primes_with_multiples` nous avons utilisé ces fonctions."
   ]
  },
  {
   "cell_type": "code",
   "execution_count": 174,
   "metadata": {
    "id": "feA7m9hH2Azo"
   },
   "outputs": [],
   "source": [
    "# tab_primes: tableau avec seulement nombres premiers, val_min et val_max: valeurs minimales et maximales du tableau de sortie\n",
    "# proportion: c'est le rapport entre la quantité des multiples et nombres premiers qu'on veut dans le tableau de sortie\n",
    "\n",
    "def add_multiples(tab_primes, val_min, val_max): # Ajoute tous les multiples dans l'intervale val_min à val_max\n",
    "    taille = val_max-val_min-1\n",
    "    new_tab = np.zeros((taille+2, 2))\n",
    "    new_tab[:,1] = np.arange(val_min, val_max+1)\n",
    "    i = val_min\n",
    "    p = 0\n",
    "    k = 0\n",
    "    while i <= val_max:\n",
    "        if tab_primes[p] < i:\n",
    "            p += 1\n",
    "            pass\n",
    "        elif i == tab_primes[p]:\n",
    "            new_tab[k][0] = 1\n",
    "            k += 1\n",
    "            p += 1\n",
    "            i += 1\n",
    "        else:\n",
    "            k += 1\n",
    "            i += 1\n",
    "    return new_tab\n",
    "\n",
    "def add_random_multiples(tab_primes,val_min,val_max,proportion): # Supprime aléatoirement des multiples pour obtenir la proportion qu'on veut\n",
    "    new_tab = add_multiples(tab_primes,val_min,val_max)\n",
    "    size = np.sum(new_tab[:,0])*(1+proportion)\n",
    "    diff = int(len(new_tab)-size)\n",
    "    random_index = random.sample(range(len(new_tab)), len(new_tab))\n",
    "    random_index2 = np.zeros(diff)\n",
    "    i = 0\n",
    "    p = 0\n",
    "    while i < diff:\n",
    "        index = int(random_index[i+p])\n",
    "        if new_tab[index][0] == 0:\n",
    "            random_index2[i] = index\n",
    "            i += 1\n",
    "        else:\n",
    "            p += 1\n",
    "    new_tab = np.delete(new_tab, random_index2.astype(int),0)\n",
    "    return new_tab\n",
    "\n",
    "def numbers_to_digits(tab_primes,max_digit,base): #Cette fonction convertit les nombres en chiffres dans la base qu'on veut\n",
    "    size = len(tab_primes)\n",
    "    tab = np.zeros((size,max_digit+1))\n",
    "    p = 0\n",
    "    for p in range(size):\n",
    "        i=1\n",
    "        number = tab_primes[p][1]\n",
    "        for i in np.arange(1,max_digit):\n",
    "            tab[p][i]=number%base\n",
    "            number=number//base\n",
    "    tab[:,0] = tab_primes[:,0]\n",
    "    return tab\n",
    "\n",
    "def conv_pnum(ligne): # convertit une ligne du dataset test en un nombre\n",
    "  num = ''\n",
    "  for i in range(9):\n",
    "    newnum = primes10000_prop1_dec[ligne][9 - i]\n",
    "    num = np.char.add(num,newnum.astype(int).astype(str))\n",
    "  return num.astype(int)\n",
    "\n",
    "def conv_pnums(fn, ln): # permet de récupérer les indices de l'echantillon test\n",
    "  indice = np.zeros(ln - fn)\n",
    "  j = 0\n",
    "  for i in range(fn, ln):\n",
    "    indice[j] = conv_pnum(i)\n",
    "    j += 1\n",
    "  return indice"
   ]
  },
  {
   "cell_type": "markdown",
   "metadata": {
    "id": "UcnHaILQ2Azo"
   },
   "source": [
    "## Préparation des datasets"
   ]
  },
  {
   "cell_type": "markdown",
   "metadata": {
    "id": "KBTmHXBz5h5M"
   },
   "source": [
    "Pour obtenir des nombres premiers avec des multiples on utilise les fonctions définit ci-dessus. \n",
    "\n",
    "La fonction `add_random_multiple` va ajouter des nombres multiples aléatoire entres les nombres premiers afin qu'on ait à la fin 50% de nombres premiers et 50% de nombres multiples dans le dataset.\n",
    "\n",
    "Finalement, on convertit ces nombres en base décimale avec la fonction `numbers_to_digits`"
   ]
  },
  {
   "cell_type": "code",
   "execution_count": 94,
   "metadata": {
    "id": "Bjo6g2-Q0y1o"
   },
   "outputs": [],
   "source": [
    "# datasets utilisé pour l'entrainnement\n",
    "primes_array = np.array(primes.iloc[:])\n",
    "primes1000_prop1 = add_random_multiples(primes_array, 0, 100000, 1)\n",
    "primes1000_prop1_dec = numbers_to_digits(primes1000_prop1, 9, 10) # base 10"
   ]
  },
  {
   "cell_type": "code",
   "execution_count": 151,
   "metadata": {
    "id": "gCtsEfyh1YNH"
   },
   "outputs": [],
   "source": [
    "# datasets utilisé pour le test\n",
    "primes10000_prop1 = add_random_multiples(primes_array, 1000000, 10000000, 1)\n",
    "primes10000_prop1_dec = numbers_to_digits(primes10000_prop1, 9, 10)"
   ]
  },
  {
   "cell_type": "markdown",
   "metadata": {
    "id": "YrGiPi_bnIEc"
   },
   "source": [
    "Le résultat final est une matrice avec dans sa premiere colonne un `1` si le nombre est premier ou un `0` si c'est un multiple.\n",
    "\n",
    "Les 9 autres colonne contienne chaque chiffre du nombre décomposé en base décimale. (première colonne: unité, deuxième colonne: dizaine, troisième colonne: centaine, etc...)\n",
    "\n",
    "***\n",
    "\n",
    "Exemple: `array([1., 1., 2., 4., 4., 0., 0., 0., 0., 0.])`\n",
    "\n",
    "Ici la premiere colonne contient un `1` on sait donc que c'est un nombre premier et pour savoir de quel nombre il s'agit on lit le reste de la ligne de droite a gauche et on voit qu'il s'agit du nombre `4421` qui est bien un nombre premier.\n",
    "\n",
    "---\n",
    "\n",
    "Pour travailler avec des datasets en base 2 il suffit de change l'argument de la fonction `numbers_to_digits`"
   ]
  },
  {
   "cell_type": "markdown",
   "metadata": {
    "id": "4ac6-38AWFn8"
   },
   "source": [
    "# Modèle"
   ]
  },
  {
   "cell_type": "markdown",
   "metadata": {
    "id": "MbQdx7cMzmSA"
   },
   "source": [
    "Maintenant que nous avons nos datasets on peut construire un réseau de neurones Deep Feed Forward (DFF)"
   ]
  },
  {
   "cell_type": "code",
   "execution_count": 171,
   "metadata": {
    "id": "2Exo2pQh0_r9"
   },
   "outputs": [],
   "source": [
    "Adam_optimizer = keras.optimizers.Adam(learning_rate=0.0001)\n",
    "\n",
    "combined_model = tf.keras.Sequential([\n",
    "    kl.Dense(100, kernel_regularizer=regularizers.l2(0.0001),\n",
    "                 activation='relu', input_dim=(primes1000_prop1_dec.shape[1]-1)),\n",
    "    kl.Dropout(0.5),\n",
    "    kl.Dense(100, kernel_regularizer=regularizers.l2(0.0001),\n",
    "                 activation='relu'),\n",
    "    kl.Dropout(0.5),\n",
    "    kl.Dense(100, kernel_regularizer=regularizers.l2(0.0001),\n",
    "                 activation='relu'),\n",
    "    kl.Dropout(0.5),\n",
    "    kl.Dense(100, kernel_regularizer=regularizers.l2(0.0001),\n",
    "                 activation='relu'),\n",
    "    kl.Dropout(0.5),\n",
    "    kl.Dense(1, kernel_regularizer=regularizers.l2(0.0001),\n",
    "                 activation='sigmoid')\n",
    "])\n",
    "combined_model.compile(optimizer=Adam_optimizer, \n",
    "    loss='binary_crossentropy',\n",
    "    metrics=['accuracy'])"
   ]
  },
  {
   "cell_type": "code",
   "execution_count": null,
   "metadata": {
    "colab": {
     "base_uri": "https://localhost:8080/"
    },
    "id": "6A95aMDn1Rlq",
    "outputId": "db5d1bd0-925b-42d9-877e-968593246242"
   },
   "outputs": [],
   "source": [
    "history = combined_model.fit(primes1000_prop1_dec[:,1:], primes1000_prop1_dec[:,0],\n",
    "          batch_size=32,        \n",
    "          epochs=1000,  \n",
    "          validation_split=0.3,\n",
    "          verbose=1)\n",
    "\n",
    "# 30 minutes runtime"
   ]
  },
  {
   "cell_type": "markdown",
   "metadata": {
    "id": "7SX1_NTv5_F8"
   },
   "source": [
    "# Visualisations"
   ]
  },
  {
   "cell_type": "code",
   "execution_count": 175,
   "metadata": {
    "colab": {
     "base_uri": "https://localhost:8080/",
     "height": 329
    },
    "id": "7CxYpKg9a4JI",
    "outputId": "00a1ceb0-eff2-4247-8570-86fac44c3097"
   },
   "outputs": [
    {
     "data": {
      "image/png": "[encoded data removed]",
      "text/plain": [
       "<Figure size 432x288 with 1 Axes>"
      ]
     },
     "metadata": {
      "needs_background": "light",
      "tags": []
     },
     "output_type": "display_data"
    },
    {
     "name": "stdout",
     "output_type": "stream",
     "text": [
      "36631/36631 [==============================] - 41s 1ms/step - loss: 0.4330 - accuracy: 0.8197\n",
      "Evaluation du modèle:  [0.43295007944107056, 0.8197134733200073]\n"
     ]
    }
   ],
   "source": [
    "plt.figure()                    \n",
    "plt.plot(history.history['loss'], label='training')\n",
    "plt.plot(history.history['val_loss'], label='validation')\n",
    "plt.xlabel('epochs')\n",
    "plt.ylabel('loss')\n",
    "plt.yscale('log')\n",
    "plt.title('trainning loss et validation loss en fonction de l\\'epoch')\n",
    "plt.legend()\n",
    "plt.show()\n",
    "\n",
    "ev = combined_model.evaluate(primes10000_prop1_dec[:,1:], primes10000_prop1_dec[:,0])\n",
    "print('Evaluation du modèle: ', ev)"
   ]
  },
  {
   "cell_type": "markdown",
   "metadata": {
    "id": "C224YbNG7eUY"
   },
   "source": [
    "### Histogramme de la probabilitée de nombres premier \n",
    "\n",
    "On distingue clairement 3 zones interessante dans cet histogramme, la premier entre 0,3 et 0,4, la seconde entre 0,50 et 0,65 et enfin la troisieme vers 0,75"
   ]
  },
  {
   "cell_type": "code",
   "execution_count": 153,
   "metadata": {
    "colab": {
     "base_uri": "https://localhost:8080/",
     "height": 444
    },
    "id": "lrSmlvi-gw10",
    "outputId": "adc523d8-b8c6-4b83-cf41-d43eb0ee49b2"
   },
   "outputs": [
    {
     "data": {
      "image/png": "[encoded data removed]",
      "text/plain": [
       "<Figure size 1080x504 with 1 Axes>"
      ]
     },
     "metadata": {
      "needs_background": "light",
      "tags": []
     },
     "output_type": "display_data"
    }
   ],
   "source": [
    "pred = combined_model.predict(primes10000_prop1_dec[:,1:])\n",
    "fig = plt.subplots(1, 1, figsize=(15, 7))\n",
    "_ = plt.hist(pred.reshape(len(pred),), bins=50)\n",
    "plt.title('Histogramme de la répartition des prédictions du modèle')\n",
    "plt.show()"
   ]
  },
  {
   "cell_type": "code",
   "execution_count": 157,
   "metadata": {
    "colab": {
     "base_uri": "https://localhost:8080/"
    },
    "id": "1QdU_vjjWwm0",
    "outputId": "41b70d74-aba2-49f0-abde-dbccf39bfdfb"
   },
   "outputs": [
    {
     "name": "stdout",
     "output_type": "stream",
     "text": [
      "predictions pour P inférieur à 0,3\n",
      "nombres paires dans les prédictions:  0.7992274979516991\n",
      "nombres correctement prédits:  0.0\n",
      "taille de la liste:  25631\n",
      "\n",
      "\n",
      "predictions pour P entre 0,3 et 0,4\n",
      "nombres paires dans les prédictions:  0.8329166531380889\n",
      "nombres correctement prédits:  0.0\n",
      "taille de la liste:  30799\n",
      "\n",
      "\n",
      "predictions pour P entre 0,55 et 0,65\n",
      "nombres paires dans les prédictions:  0.5317565606732723\n",
      "nombres correctement prédits:  0.27219020770283153\n",
      "taille de la liste:  48242\n",
      "\n",
      "\n",
      "predictions pour P superieur a 0,7\n",
      "nombres paires dans les prédictions:  0.0\n",
      "nombres correctement prédits:  0.7532475097570921\n",
      "taille de la liste:  51501\n",
      "\n",
      "\n"
     ]
    }
   ],
   "source": [
    "n=100000\n",
    "\n",
    "pred = combined_model.predict(primes10000_prop1_dec[:n,1:]) # on fait des predictions avec le modele\n",
    "\n",
    "#############################\n",
    "\n",
    "test = conv_pnums(0, n) # on recupere les index \n",
    "\n",
    "X_pred = (pred < 0.3)*1 \n",
    "X_pred = X_pred.reshape(len(X_pred),)\n",
    "X_pred_test = X_pred*test\n",
    "X_pred_test = X_pred_test[X_pred_test != 0] # on enleve tous les zeros\n",
    "\n",
    "pred_score = X_pred_test[X_pred_test%2 != 1].shape[0] / X_pred_test.shape[0]\n",
    "pred_acc = np.isin(X_pred_test, primes)\n",
    "print('predictions pour P inférieur à 0,3')\n",
    "print(\"nombres paires dans les prédictions: \", pred_score)\n",
    "print(\"nombres correctement prédits: \", np.sum(pred_acc*1) / X_pred_test.shape[0])\n",
    "print('taille de la liste: ', X_pred_test.shape[0])\n",
    "print('\\n')\n",
    "\n",
    "X_pred = (pred > 0.3)*1 \n",
    "X_pred = (pred < 0.4)*1\n",
    "X_pred = X_pred.reshape(len(X_pred),)\n",
    "X_pred_test = X_pred*test\n",
    "X_pred_test = X_pred_test[X_pred_test != 0] # on enleve tous les zeros\n",
    "\n",
    "pred_score = X_pred_test[X_pred_test%2 != 1].shape[0] / X_pred_test.shape[0]\n",
    "pred_acc = np.isin(X_pred_test, primes)\n",
    "print('predictions pour P entre 0,3 et 0,4')\n",
    "print(\"nombres paires dans les prédictions: \", pred_score)\n",
    "print(\"nombres correctement prédits: \", np.sum(pred_acc*1) / X_pred_test.shape[0])\n",
    "print('taille de la liste: ', X_pred_test.shape[0])\n",
    "print('\\n')\n",
    "\n",
    "\n",
    "X_pred = (pred > 0.5)*1 \n",
    "X_pred = (pred < 0.65)*1\n",
    "X_pred = X_pred.reshape(len(X_pred),)\n",
    "X_pred_test = X_pred*test\n",
    "X_pred_test = X_pred_test[X_pred_test != 0] # on enleve tous les zeros\n",
    "\n",
    "pred_score = X_pred_test[X_pred_test%2 != 1].shape[0] / X_pred_test.shape[0]\n",
    "pred_acc = np.isin(X_pred_test, primes)\n",
    "print('predictions pour P entre 0,55 et 0,65')\n",
    "print(\"nombres paires dans les prédictions: \", pred_score)\n",
    "print(\"nombres correctement prédits: \", np.sum(pred_acc*1) / X_pred_test.shape[0])\n",
    "print('taille de la liste: ', X_pred_test.shape[0])\n",
    "print('\\n')\n",
    "\n",
    "\n",
    "X_pred = (pred > 0.7)*1 \n",
    "X_pred = X_pred.reshape(len(X_pred),)\n",
    "X_pred_test = X_pred*test\n",
    "X_pred_test = X_pred_test[X_pred_test != 0] # on enleve tous les zeros\n",
    "\n",
    "pred_score = X_pred_test[X_pred_test%2 != 1].shape[0] / X_pred_test.shape[0]\n",
    "pred_acc = np.isin(X_pred_test, primes)\n",
    "print('predictions pour P superieur a 0,7')\n",
    "print(\"nombres paires dans les prédictions: \", pred_score)\n",
    "print(\"nombres correctement prédits: \", np.sum(pred_acc*1) / X_pred_test.shape[0])\n",
    "print('taille de la liste: ', X_pred_test.shape[0])\n",
    "print('\\n')"
   ]
  },
  {
   "cell_type": "markdown",
   "metadata": {},
   "source": [
    "# Modèle pour le dataset en base binaire"
   ]
  },
  {
   "cell_type": "markdown",
   "metadata": {},
   "source": [
    "On commence par créer un dataset en base binaire composé par tous les nombres premiers plus petits que 100000 et des multiples avec un rapport égale à 1 pour éviter les problèmes de surapprentissage pour les multiples. "
   ]
  },
  {
   "cell_type": "code",
   "execution_count": 11,
   "metadata": {},
   "outputs": [],
   "source": [
    "train = add_random_multiples(primes_array,0,100000,1)\n",
    "train_binaire = numbers_to_digits(train,30,2)"
   ]
  },
  {
   "cell_type": "markdown",
   "metadata": {},
   "source": [
    "Après on va utiliser le modèle suivant qui est ce qui a marché le mieux pendant les essais."
   ]
  },
  {
   "cell_type": "code",
   "execution_count": 12,
   "metadata": {},
   "outputs": [],
   "source": [
    "model_binaire = tf.keras.Sequential([\n",
    "    kl.Dense(50, kernel_regularizer=regularizers.l2(0.0001),\n",
    "                 activation='tanh', input_dim=30),\n",
    "    kl.Dropout(0.5),\n",
    "    kl.Dense(1,activation='sigmoid')\n",
    "])\n",
    "Adam_optimizer = keras.optimizers.Adam(learning_rate=0.0001)\n",
    "model_binaire.compile(optimizer=Adam_optimizer, \n",
    "    loss='binary_crossentropy',\n",
    "    metrics=['accuracy'])"
   ]
  },
  {
   "cell_type": "code",
   "execution_count": null,
   "metadata": {},
   "outputs": [],
   "source": [
    "history = model_binaire.fit(train_binaire[:,1:], train_binaire[:,0],\n",
    "          batch_size=32,        \n",
    "          epochs=200,  \n",
    "          validation_split=0.3,\n",
    "          verbose=2)"
   ]
  },
  {
   "cell_type": "code",
   "execution_count": 15,
   "metadata": {},
   "outputs": [
    {
     "data": {
      "image/png": "[encoded data removed]",
      "text/plain": [
       "<Figure size 432x288 with 1 Axes>"
      ]
     },
     "metadata": {
      "needs_background": "light"
     },
     "output_type": "display_data"
    },
    {
     "data": {
      "image/png": "[encoded data removed]",
      "text/plain": [
       "<Figure size 432x288 with 1 Axes>"
      ]
     },
     "metadata": {
      "needs_background": "light"
     },
     "output_type": "display_data"
    }
   ],
   "source": [
    "plt.plot(history.history['loss'], label='training')\n",
    "plt.plot(history.history['val_loss'], label='validation')\n",
    "plt.xlabel('epochs')\n",
    "plt.ylabel('loss')\n",
    "plt.yscale('log')\n",
    "plt.title('Training loss et validation loss en fonction de l\\'epoch')\n",
    "plt.legend()\n",
    "plt.show()\n",
    "plt.plot(history.history['accuracy'], label='training')\n",
    "plt.plot(history.history['val_accuracy'], label='validation')\n",
    "plt.xlabel('epochs')\n",
    "plt.ylabel('accuracy')\n",
    "plt.yscale('log')\n",
    "plt.title('Training accuracy et validation accuracy en fonction de l\\'epoch')\n",
    "plt.legend()\n",
    "plt.show()"
   ]
  },
  {
   "cell_type": "markdown",
   "metadata": {},
   "source": [
    "On obtient bien une descente de la valeur du loss et une croissance pour la valeur accuracy, mais il y a un saut abrupt pendant l'entraînement qu'on a pas su le résoudre."
   ]
  },
  {
   "cell_type": "markdown",
   "metadata": {},
   "source": [
    "Finalement, on a evalué le modèle avec des valeurs dehors du dataset d'entraînement, plus précisément dans l'intervalle 1e5 et 1e6. On a essayé d'evaluer le modèle avec un dataset qui avait seulment des nombres premiers du intervalle et dans un deuxième cas avec des multiples avec une proportion égale à 1 avec les nombres premiers. On a trouvé des résultats bizarres alors on a fait le test suivant avec différent proportions."
   ]
  },
  {
   "cell_type": "code",
   "execution_count": 18,
   "metadata": {},
   "outputs": [
    {
     "name": "stdout",
     "output_type": "stream",
     "text": [
      "2154/2154 [==============================] - 4s 2ms/step - loss: 0.4547 - accuracy: 0.9815\n",
      "4307/4307 [==============================] - 7s 2ms/step - loss: 0.4670 - accuracy: 0.7656\n",
      "6460/6460 [==============================] - 11s 2ms/step - loss: 0.4710 - accuracy: 0.6939\n",
      "8614/8614 [==============================] - 66s 8ms/step - loss: 0.4734 - accuracy: 0.6572\n",
      "10767/10767 [==============================] - 112s 10ms/step - loss: 0.4738 - accuracy: 0.6364\n",
      "12920/12920 [==============================] - 103s 8ms/step - loss: 0.4757 - accuracy: 0.6214\n",
      "15074/15074 [==============================] - 29s 2ms/step - loss: 0.4757 - accuracy: 0.6116\n",
      "17227/17227 [==============================] - 38s 2ms/step - loss: 0.4757 - accuracy: 0.6042\n",
      "19380/19380 [==============================] - 37s 2ms/step - loss: 0.4767 - accuracy: 0.5978\n",
      "21534/21534 [==============================] - 38s 2ms/step - loss: 0.4770 - accuracy: 0.5928\n",
      "23687/23687 [==============================] - 40s 2ms/step - loss: 0.4771 - accuracy: 0.5891\n",
      "25840/25840 [==============================] - 48s 2ms/step - loss: 0.4772 - accuracy: 0.5859\n",
      "27994/27994 [==============================] - 49s 2ms/step - loss: 0.4774 - accuracy: 0.5830\n"
     ]
    }
   ],
   "source": [
    "valmin = 100000\n",
    "valmax = 1000000\n",
    "prop = 0\n",
    "test_ = add_random_multiples(primes_array,valmin,valmax,0)\n",
    "test_binaire = numbers_to_digits(test_,30,2)\n",
    "dim = len(test_)\n",
    "prop_max = (valmax-valmin)//dim\n",
    "prop_array = np.arange(prop_max)\n",
    "acc_array = np.zeros(prop_max)\n",
    "for i in prop_array:\n",
    "    test_ = add_random_multiples(primes_array,valmin,valmax,i)\n",
    "    test_binaire = numbers_to_digits(test_,30,2)\n",
    "    acc_array[i] = model_binaire.evaluate(test_binaire[:,1:], test_binaire[:,0],verbose=1)[1]"
   ]
  },
  {
   "cell_type": "code",
   "execution_count": 19,
   "metadata": {},
   "outputs": [
    {
     "data": {
      "image/png": "[encoded data removed]",
      "text/plain": [
       "<Figure size 432x288 with 1 Axes>"
      ]
     },
     "metadata": {
      "needs_background": "light"
     },
     "output_type": "display_data"
    }
   ],
   "source": [
    "plt.plot(prop_array,acc_array)\n",
    "plt.xlabel('proportion des multiples par rapport aux # premiers')\n",
    "plt.ylabel('accuracy')\n",
    "plt.show()"
   ]
  },
  {
   "cell_type": "markdown",
   "metadata": {},
   "source": [
    "Comme on peut voir pour une proportion égale à 0 (dataset composé seulement de nombres premiers), on obtient une accuracy de presque 100%, mais selon on ajoute de multiples ça descend à jusqu'à 58%. Donc presque pour la moitié des multiples le modèle prédit que c'est un nombre premier."
   ]
  },
  {
   "cell_type": "code",
   "execution_count": 21,
   "metadata": {},
   "outputs": [
    {
     "name": "stdout",
     "output_type": "stream",
     "text": [
      "27994/27994 [==============================] - 21s 742us/step\n"
     ]
    },
    {
     "data": {
      "image/png": "[encoded data removed]",
      "text/plain": [
       "<Figure size 432x288 with 1 Axes>"
      ]
     },
     "metadata": {
      "needs_background": "light"
     },
     "output_type": "display_data"
    }
   ],
   "source": [
    "pred_binaire = model_binaire.predict(test_binaire[:,1:],verbose=1)\n",
    "plt.hist(pred_binaire, bins=50)\n",
    "plt.show()"
   ]
  },
  {
   "cell_type": "markdown",
   "metadata": {},
   "source": [
    "Finalement, on confirme nos soupçons avec ce histograme. On attendait plus de 800 000 multiples mais on a un peu plus de 400 000."
   ]
  },
  {
   "cell_type": "markdown",
   "metadata": {
    "id": "xjIVlybohzWI"
   },
   "source": [
    "# Résultats\n",
    "\n",
    "### Prédictions\n",
    "Ces résultats sont donc cohérent avec ce que l'on attendait, plus la probabilité donné est grande et plus il y a de chance que ca soit effectivement un nombres premier et inversement quand la probabilité est faible. \n",
    "On retrouve d'ailleurs approximativement la proportion de nombre premiers/multiples du dataset.\n",
    "\n",
    "Le réseau est capable de comprendre que les nombres paires ne sont jamais des nombres premiers et il arrive à séparer les nombres premiers des nombres impaires avec précision de *82%*\n",
    "\n",
    "### Base binaire\n",
    "\n",
    "Lors que nous avons testé le réseau avec la base binaire nous n'avons pas constaté d'amélioration significative dans la qualité des prédictions, en entrainnant le réseau avec la base binaire nous trouvons un précision de *77*% ce qui est un peu moins qu'avec la base décimale mais qui reste toutefois très correct.\n",
    "\n",
    "## Conclusions\n",
    "\n",
    "En conclusion, ce réseau de neuronnes est bien capable de prédire des nombres premiers.\n",
    "\n",
    "Nous avons vu qu'il est capable de séparer correctement les nombres premiers des multiples et  que, même si il ne permet pas de savoir à 100% si un nombre donné est premier ou non, il permet néanmoins de voir rapidement la proportion de nombres premiers dans un intervalle donnée avec une erreur minime.\n",
    "Cette méthode étant beaucoup plus rapide que de calculer directement chaque nombres potentielement premier. "
   ]
  },
  {
   "cell_type": "markdown",
   "metadata": {
    "id": "x3nrSuITd_j_"
   },
   "source": [
    "# Prespectives\n",
    "\n",
    "À cause de la contrainte de temps pour ce projet nous n'avons malheureusement pas pu essayer toutes piste possible pour améliorer ce réseau.\n",
    "\n",
    "Une chose qui aurait pu être intéressante à faire aurait été de voir la distribution des nombres prédit correctement pour pousser l'analyse plus loin, de faire des analyse plus poussé des distributions afin de détecter de potentiel faille dans cette méthode.\n",
    "On aurais aussi pu essayer d'autre architecture de réseau (tel qu'un réseau convolutif par exemple) ou d'optimiser l'architecture que nous avons utiliser pour gagner en performance/précision."
   ]
  }
 ],
 "metadata": {
  "colab": {
   "collapsed_sections": [],
   "name": "Copy of Copy of Copy of Nombres_Premiers.ipynb",
   "provenance": []
  },
  "kernelspec": {
   "display_name": "Python 3",
   "language": "python",
   "name": "python3"
  },
  "language_info": {
   "codemirror_mode": {
    "name": "ipython",
    "version": 3
   },
   "file_extension": ".py",
   "mimetype": "text/x-python",
   "name": "python",
   "nbconvert_exporter": "python",
   "pygments_lexer": "ipython3",
   "version": "3.9.4"
  }
 },
 "nbformat": 4,
 "nbformat_minor": 4
}
