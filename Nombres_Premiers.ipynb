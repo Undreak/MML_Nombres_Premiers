{
  "nbformat": 4,
  "nbformat_minor": 0,
  "metadata": {
    "kernelspec": {
      "display_name": "Python 3",
      "language": "python",
      "name": "python3"
    },
    "language_info": {
      "codemirror_mode": {
        "name": "ipython",
        "version": 3
      },
      "file_extension": ".py",
      "mimetype": "text/x-python",
      "name": "python",
      "nbconvert_exporter": "python",
      "pygments_lexer": "ipython3",
      "version": "3.9.2"
    },
    "colab": {
      "name": "Nombres_Premiers.ipynb",
      "provenance": []
    }
  },
  "cells": [
    {
      "cell_type": "markdown",
      "metadata": {
        "id": "Hm3QK_MnBuRo"
      },
      "source": [
        "# Notebook Nombres Premiers"
      ]
    },
    {
      "cell_type": "code",
      "metadata": {
        "id": "UpoxLCSG9B15",
        "cellView": "form",
        "outputId": "072a7f17-7f5b-4a70-b3e4-510c86554b8b",
        "colab": {
          "base_uri": "https://localhost:8080/"
        }
      },
      "source": [
        "#@title Télécharger les données\n",
        "\n",
        "#@markdown Ceci va télécharger l'archive depuis Github et la décompresser dans le dossier `data`\n",
        "\n",
        "import sys\n",
        "import os\n",
        "import tarfile\n",
        "from urllib.request import urlretrieve\n",
        "\n",
        "URL = \"https://github.com/Undreak/MML_Nombres_Premiers/raw/master/prime_with_multiples.tar.gz\"\n",
        "FILE = \"prime_with_multiples.tar.gz\"\n",
        "\n",
        "def download_data(output_dir):\n",
        "\n",
        "  if not os.path.exists(output_dir):\n",
        "    print(f\"Creating directory {output_dir}\")\n",
        "    os.mkdir(output_dir)\n",
        "\n",
        "  output_file = os.path.join(output_dir, FILE)\n",
        "  if os.path.exists(output_file):\n",
        "    print(f\"{FILE} already downloaded.\")\n",
        "\n",
        "  print(f\"Downloading from {URL}...\")\n",
        "  urlretrieve(URL, output_file)\n",
        "  print(f\"==> File saved as {output_file}\")\n",
        "\n",
        "  if FILE.endswith(\"tar.gz\"):\n",
        "    print(\"Extracting tarball..\")\n",
        "    with tarfile.open(output_file, \"r:gz\") as f:\n",
        "      f.extractall(output_dir)\n",
        "    print(\"Done.\")\n",
        "\n",
        "download_data(\"data\")"
      ],
      "execution_count": 39,
      "outputs": [
        {
          "output_type": "stream",
          "text": [
            "prime_with_multiples.tar.gz already downloaded.\n",
            "Downloading from https://github.com/Undreak/MML_Nombres_Premiers/raw/master/prime_with_multiples.tar.gz...\n",
            "==> File saved as data/prime_with_multiples.tar.gz\n",
            "Extracting tarball..\n",
            "Done.\n"
          ],
          "name": "stdout"
        }
      ]
    }
  ]
}